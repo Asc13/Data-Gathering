{
 "cells": [
  {
   "cell_type": "code",
   "execution_count": 96,
   "metadata": {},
   "outputs": [],
   "source": [
    "import pandas as pd\n",
    "import re\n",
    "import seaborn as sns\n",
    "import matplotlib.pyplot as plt\n",
    "import json\n",
    "\n",
    "CITY = 'Lisboa'\n",
    "plt.rcParams['figure.figsize'] = [12, 6]"
   ]
  },
  {
   "cell_type": "markdown",
   "metadata": {},
   "source": [
    "***\n",
    "# <center>**Dataset Creation**<center>\n",
    "***"
   ]
  },
  {
   "cell_type": "markdown",
   "metadata": {},
   "source": [
    "## **1. JSON Loading**"
   ]
  },
  {
   "cell_type": "code",
   "execution_count": 97,
   "metadata": {},
   "outputs": [
    {
     "data": {
      "text/html": [
       "<div>\n",
       "<style scoped>\n",
       "    .dataframe tbody tr th:only-of-type {\n",
       "        vertical-align: middle;\n",
       "    }\n",
       "\n",
       "    .dataframe tbody tr th {\n",
       "        vertical-align: top;\n",
       "    }\n",
       "\n",
       "    .dataframe thead th {\n",
       "        text-align: right;\n",
       "    }\n",
       "</style>\n",
       "<table border=\"1\" class=\"dataframe\">\n",
       "  <thead>\n",
       "    <tr style=\"text-align: right;\">\n",
       "      <th></th>\n",
       "      <th>datetime</th>\n",
       "      <th>city</th>\n",
       "      <th>lat</th>\n",
       "      <th>lon</th>\n",
       "      <th>weather</th>\n",
       "      <th>traffic</th>\n",
       "      <th>airPollution</th>\n",
       "    </tr>\n",
       "  </thead>\n",
       "  <tbody>\n",
       "    <tr>\n",
       "      <th>0</th>\n",
       "      <td>2022-04-17 13:34:00</td>\n",
       "      <td>Lisboa</td>\n",
       "      <td>38.707100</td>\n",
       "      <td>-9.13549</td>\n",
       "      <td>{'coord': {'lon': -9.1355, 'lat': 38.7071}, 'w...</td>\n",
       "      <td>{'flowSegmentData': {'frc': 'FRC2', 'currentSp...</td>\n",
       "      <td>{'coord': {'lon': -9.1355, 'lat': 38.7071}, 'l...</td>\n",
       "    </tr>\n",
       "    <tr>\n",
       "      <th>1</th>\n",
       "      <td>2022-04-17 13:34:00</td>\n",
       "      <td>Porto</td>\n",
       "      <td>41.149610</td>\n",
       "      <td>-8.61099</td>\n",
       "      <td>{'coord': {'lon': -8.611, 'lat': 41.1496}, 'we...</td>\n",
       "      <td>{'flowSegmentData': {'frc': 'FRC4', 'currentSp...</td>\n",
       "      <td>{'coord': {'lon': -8.611, 'lat': 41.1496}, 'li...</td>\n",
       "    </tr>\n",
       "    <tr>\n",
       "      <th>2</th>\n",
       "      <td>2022-04-17 13:34:00</td>\n",
       "      <td>Faro</td>\n",
       "      <td>37.019356</td>\n",
       "      <td>-7.93044</td>\n",
       "      <td>{'coord': {'lon': -7.9304, 'lat': 37.0194}, 'w...</td>\n",
       "      <td>{'flowSegmentData': {'frc': 'FRC3', 'currentSp...</td>\n",
       "      <td>{'coord': {'lon': -7.9304, 'lat': 37.0194}, 'l...</td>\n",
       "    </tr>\n",
       "    <tr>\n",
       "      <th>3</th>\n",
       "      <td>2022-04-17 13:44:02</td>\n",
       "      <td>Lisboa</td>\n",
       "      <td>38.707100</td>\n",
       "      <td>-9.13549</td>\n",
       "      <td>{'coord': {'lon': -9.1355, 'lat': 38.7071}, 'w...</td>\n",
       "      <td>{'flowSegmentData': {'frc': 'FRC2', 'currentSp...</td>\n",
       "      <td>{'coord': {'lon': -9.1355, 'lat': 38.7071}, 'l...</td>\n",
       "    </tr>\n",
       "    <tr>\n",
       "      <th>4</th>\n",
       "      <td>2022-04-17 13:44:02</td>\n",
       "      <td>Porto</td>\n",
       "      <td>41.149610</td>\n",
       "      <td>-8.61099</td>\n",
       "      <td>{'coord': {'lon': -8.611, 'lat': 41.1496}, 'we...</td>\n",
       "      <td>{'flowSegmentData': {'frc': 'FRC4', 'currentSp...</td>\n",
       "      <td>{'coord': {'lon': -8.611, 'lat': 41.1496}, 'li...</td>\n",
       "    </tr>\n",
       "  </tbody>\n",
       "</table>\n",
       "</div>"
      ],
      "text/plain": [
       "             datetime    city        lat      lon  \\\n",
       "0 2022-04-17 13:34:00  Lisboa  38.707100 -9.13549   \n",
       "1 2022-04-17 13:34:00   Porto  41.149610 -8.61099   \n",
       "2 2022-04-17 13:34:00    Faro  37.019356 -7.93044   \n",
       "3 2022-04-17 13:44:02  Lisboa  38.707100 -9.13549   \n",
       "4 2022-04-17 13:44:02   Porto  41.149610 -8.61099   \n",
       "\n",
       "                                             weather  \\\n",
       "0  {'coord': {'lon': -9.1355, 'lat': 38.7071}, 'w...   \n",
       "1  {'coord': {'lon': -8.611, 'lat': 41.1496}, 'we...   \n",
       "2  {'coord': {'lon': -7.9304, 'lat': 37.0194}, 'w...   \n",
       "3  {'coord': {'lon': -9.1355, 'lat': 38.7071}, 'w...   \n",
       "4  {'coord': {'lon': -8.611, 'lat': 41.1496}, 'we...   \n",
       "\n",
       "                                             traffic  \\\n",
       "0  {'flowSegmentData': {'frc': 'FRC2', 'currentSp...   \n",
       "1  {'flowSegmentData': {'frc': 'FRC4', 'currentSp...   \n",
       "2  {'flowSegmentData': {'frc': 'FRC3', 'currentSp...   \n",
       "3  {'flowSegmentData': {'frc': 'FRC2', 'currentSp...   \n",
       "4  {'flowSegmentData': {'frc': 'FRC4', 'currentSp...   \n",
       "\n",
       "                                        airPollution  \n",
       "0  {'coord': {'lon': -9.1355, 'lat': 38.7071}, 'l...  \n",
       "1  {'coord': {'lon': -8.611, 'lat': 41.1496}, 'li...  \n",
       "2  {'coord': {'lon': -7.9304, 'lat': 37.0194}, 'l...  \n",
       "3  {'coord': {'lon': -9.1355, 'lat': 38.7071}, 'l...  \n",
       "4  {'coord': {'lon': -8.611, 'lat': 41.1496}, 'li...  "
      ]
     },
     "execution_count": 97,
     "metadata": {},
     "output_type": "execute_result"
    }
   ],
   "source": [
    "dataset = pd.read_json('./data.json', lines = True)\n",
    "dataset.head()"
   ]
  },
  {
   "cell_type": "markdown",
   "metadata": {},
   "source": [
    "### **1.1. Traffic**"
   ]
  },
  {
   "cell_type": "code",
   "execution_count": 98,
   "metadata": {},
   "outputs": [
    {
     "data": {
      "text/html": [
       "<div>\n",
       "<style scoped>\n",
       "    .dataframe tbody tr th:only-of-type {\n",
       "        vertical-align: middle;\n",
       "    }\n",
       "\n",
       "    .dataframe tbody tr th {\n",
       "        vertical-align: top;\n",
       "    }\n",
       "\n",
       "    .dataframe thead th {\n",
       "        text-align: right;\n",
       "    }\n",
       "</style>\n",
       "<table border=\"1\" class=\"dataframe\">\n",
       "  <thead>\n",
       "    <tr style=\"text-align: right;\">\n",
       "      <th></th>\n",
       "      <th>datetime</th>\n",
       "      <th>city</th>\n",
       "      <th>lat</th>\n",
       "      <th>lon</th>\n",
       "      <th>weather</th>\n",
       "      <th>airPollution</th>\n",
       "      <th>currentSpeed</th>\n",
       "      <th>freeFlowSpeed</th>\n",
       "      <th>currentTravelTime</th>\n",
       "      <th>freeFlowTravelTime</th>\n",
       "    </tr>\n",
       "  </thead>\n",
       "  <tbody>\n",
       "    <tr>\n",
       "      <th>0</th>\n",
       "      <td>2022-04-17 13:34:00</td>\n",
       "      <td>Lisboa</td>\n",
       "      <td>38.7071</td>\n",
       "      <td>-9.13549</td>\n",
       "      <td>{'coord': {'lon': -9.1355, 'lat': 38.7071}, 'w...</td>\n",
       "      <td>{'coord': {'lon': -9.1355, 'lat': 38.7071}, 'l...</td>\n",
       "      <td>15</td>\n",
       "      <td>29</td>\n",
       "      <td>36</td>\n",
       "      <td>18</td>\n",
       "    </tr>\n",
       "    <tr>\n",
       "      <th>1</th>\n",
       "      <td>2022-04-17 13:34:00</td>\n",
       "      <td>Porto</td>\n",
       "      <td>41.14961</td>\n",
       "      <td>-8.61099</td>\n",
       "      <td>{'coord': {'lon': -8.611, 'lat': 41.1496}, 'we...</td>\n",
       "      <td>{'coord': {'lon': -8.611, 'lat': 41.1496}, 'li...</td>\n",
       "      <td>15</td>\n",
       "      <td>15</td>\n",
       "      <td>31</td>\n",
       "      <td>31</td>\n",
       "    </tr>\n",
       "    <tr>\n",
       "      <th>2</th>\n",
       "      <td>2022-04-17 13:34:00</td>\n",
       "      <td>Faro</td>\n",
       "      <td>37.019356</td>\n",
       "      <td>-7.93044</td>\n",
       "      <td>{'coord': {'lon': -7.9304, 'lat': 37.0194}, 'w...</td>\n",
       "      <td>{'coord': {'lon': -7.9304, 'lat': 37.0194}, 'l...</td>\n",
       "      <td>28</td>\n",
       "      <td>28</td>\n",
       "      <td>148</td>\n",
       "      <td>148</td>\n",
       "    </tr>\n",
       "    <tr>\n",
       "      <th>3</th>\n",
       "      <td>2022-04-17 13:44:02</td>\n",
       "      <td>Lisboa</td>\n",
       "      <td>38.7071</td>\n",
       "      <td>-9.13549</td>\n",
       "      <td>{'coord': {'lon': -9.1355, 'lat': 38.7071}, 'w...</td>\n",
       "      <td>{'coord': {'lon': -9.1355, 'lat': 38.7071}, 'l...</td>\n",
       "      <td>30</td>\n",
       "      <td>30</td>\n",
       "      <td>18</td>\n",
       "      <td>18</td>\n",
       "    </tr>\n",
       "    <tr>\n",
       "      <th>4</th>\n",
       "      <td>2022-04-17 13:44:02</td>\n",
       "      <td>Porto</td>\n",
       "      <td>41.14961</td>\n",
       "      <td>-8.61099</td>\n",
       "      <td>{'coord': {'lon': -8.611, 'lat': 41.1496}, 'we...</td>\n",
       "      <td>{'coord': {'lon': -8.611, 'lat': 41.1496}, 'li...</td>\n",
       "      <td>15</td>\n",
       "      <td>15</td>\n",
       "      <td>31</td>\n",
       "      <td>31</td>\n",
       "    </tr>\n",
       "  </tbody>\n",
       "</table>\n",
       "</div>"
      ],
      "text/plain": [
       "             datetime    city        lat      lon  \\\n",
       "0 2022-04-17 13:34:00  Lisboa    38.7071 -9.13549   \n",
       "1 2022-04-17 13:34:00   Porto   41.14961 -8.61099   \n",
       "2 2022-04-17 13:34:00    Faro  37.019356 -7.93044   \n",
       "3 2022-04-17 13:44:02  Lisboa    38.7071 -9.13549   \n",
       "4 2022-04-17 13:44:02   Porto   41.14961 -8.61099   \n",
       "\n",
       "                                             weather  \\\n",
       "0  {'coord': {'lon': -9.1355, 'lat': 38.7071}, 'w...   \n",
       "1  {'coord': {'lon': -8.611, 'lat': 41.1496}, 'we...   \n",
       "2  {'coord': {'lon': -7.9304, 'lat': 37.0194}, 'w...   \n",
       "3  {'coord': {'lon': -9.1355, 'lat': 38.7071}, 'w...   \n",
       "4  {'coord': {'lon': -8.611, 'lat': 41.1496}, 'we...   \n",
       "\n",
       "                                        airPollution  currentSpeed  \\\n",
       "0  {'coord': {'lon': -9.1355, 'lat': 38.7071}, 'l...            15   \n",
       "1  {'coord': {'lon': -8.611, 'lat': 41.1496}, 'li...            15   \n",
       "2  {'coord': {'lon': -7.9304, 'lat': 37.0194}, 'l...            28   \n",
       "3  {'coord': {'lon': -9.1355, 'lat': 38.7071}, 'l...            30   \n",
       "4  {'coord': {'lon': -8.611, 'lat': 41.1496}, 'li...            15   \n",
       "\n",
       "   freeFlowSpeed  currentTravelTime  freeFlowTravelTime  \n",
       "0             29                 36                  18  \n",
       "1             15                 31                  31  \n",
       "2             28                148                 148  \n",
       "3             30                 18                  18  \n",
       "4             15                 31                  31  "
      ]
     },
     "execution_count": 98,
     "metadata": {},
     "output_type": "execute_result"
    }
   ],
   "source": [
    "for index, values in dataset.iterrows():\n",
    "\n",
    "    features = re.split(r', ', re.split(r': ', str(values['traffic']), 1)[1])\n",
    "    \n",
    "    for f in features:\n",
    "\n",
    "        if re.search(r'frc', f) or re.search(r'longitude', f) or re.search(r'latitude', f) or re.search(r'@version', f) or re.search(r'coordinates', f):\n",
    "            pass\n",
    "        \n",
    "        elif re.search(r'roadClosure', f):\n",
    "            pair = re.split(r': ', f)\n",
    "            dataset.loc[dataset.index[index], re.sub(r'\\'', r'', pair[0])] = 1 if re.sub(r'\\'', r'', pair[1]) == 'True' else 0\n",
    "\n",
    "        else:\n",
    "            pair = re.split(r': ', f)\n",
    "            dataset.loc[dataset.index[index], re.sub(r'\\'', r'', pair[0])] = float(pair[1])\n",
    "\n",
    "dataset = dataset.drop(['traffic', 'roadClosure', 'confidence'],  axis = 1)\n",
    "dataset = dataset.convert_dtypes()\n",
    "dataset.head()"
   ]
  },
  {
   "cell_type": "markdown",
   "metadata": {},
   "source": [
    "### **1.2. Weather**"
   ]
  },
  {
   "cell_type": "code",
   "execution_count": 99,
   "metadata": {},
   "outputs": [
    {
     "data": {
      "text/html": [
       "<div>\n",
       "<style scoped>\n",
       "    .dataframe tbody tr th:only-of-type {\n",
       "        vertical-align: middle;\n",
       "    }\n",
       "\n",
       "    .dataframe tbody tr th {\n",
       "        vertical-align: top;\n",
       "    }\n",
       "\n",
       "    .dataframe thead th {\n",
       "        text-align: right;\n",
       "    }\n",
       "</style>\n",
       "<table border=\"1\" class=\"dataframe\">\n",
       "  <thead>\n",
       "    <tr style=\"text-align: right;\">\n",
       "      <th></th>\n",
       "      <th>datetime</th>\n",
       "      <th>city</th>\n",
       "      <th>lat</th>\n",
       "      <th>lon</th>\n",
       "      <th>airPollution</th>\n",
       "      <th>currentSpeed</th>\n",
       "      <th>freeFlowSpeed</th>\n",
       "      <th>currentTravelTime</th>\n",
       "      <th>freeFlowTravelTime</th>\n",
       "      <th>main</th>\n",
       "      <th>...</th>\n",
       "      <th>temp_max</th>\n",
       "      <th>pressure</th>\n",
       "      <th>humidity</th>\n",
       "      <th>speed</th>\n",
       "      <th>deg</th>\n",
       "      <th>cloudiness (%)</th>\n",
       "      <th>rain</th>\n",
       "      <th>gust</th>\n",
       "      <th>sea_level</th>\n",
       "      <th>grnd_level</th>\n",
       "    </tr>\n",
       "  </thead>\n",
       "  <tbody>\n",
       "    <tr>\n",
       "      <th>0</th>\n",
       "      <td>2022-04-17 13:34:00</td>\n",
       "      <td>Lisboa</td>\n",
       "      <td>38.7071</td>\n",
       "      <td>-9.13549</td>\n",
       "      <td>{'coord': {'lon': -9.1355, 'lat': 38.7071}, 'l...</td>\n",
       "      <td>15</td>\n",
       "      <td>29</td>\n",
       "      <td>36</td>\n",
       "      <td>18</td>\n",
       "      <td>Clouds</td>\n",
       "      <td>...</td>\n",
       "      <td>22.34</td>\n",
       "      <td>1015</td>\n",
       "      <td>59</td>\n",
       "      <td>7.2</td>\n",
       "      <td>340</td>\n",
       "      <td>20</td>\n",
       "      <td>0.0</td>\n",
       "      <td>0.0</td>\n",
       "      <td>&lt;NA&gt;</td>\n",
       "      <td>&lt;NA&gt;</td>\n",
       "    </tr>\n",
       "    <tr>\n",
       "      <th>1</th>\n",
       "      <td>2022-04-17 13:34:00</td>\n",
       "      <td>Porto</td>\n",
       "      <td>41.14961</td>\n",
       "      <td>-8.61099</td>\n",
       "      <td>{'coord': {'lon': -8.611, 'lat': 41.1496}, 'li...</td>\n",
       "      <td>15</td>\n",
       "      <td>15</td>\n",
       "      <td>31</td>\n",
       "      <td>31</td>\n",
       "      <td>Clouds</td>\n",
       "      <td>...</td>\n",
       "      <td>22.89</td>\n",
       "      <td>1020</td>\n",
       "      <td>68</td>\n",
       "      <td>4.12</td>\n",
       "      <td>300</td>\n",
       "      <td>20</td>\n",
       "      <td>0.0</td>\n",
       "      <td>0.0</td>\n",
       "      <td>&lt;NA&gt;</td>\n",
       "      <td>&lt;NA&gt;</td>\n",
       "    </tr>\n",
       "    <tr>\n",
       "      <th>2</th>\n",
       "      <td>2022-04-17 13:34:00</td>\n",
       "      <td>Faro</td>\n",
       "      <td>37.019356</td>\n",
       "      <td>-7.93044</td>\n",
       "      <td>{'coord': {'lon': -7.9304, 'lat': 37.0194}, 'l...</td>\n",
       "      <td>28</td>\n",
       "      <td>28</td>\n",
       "      <td>148</td>\n",
       "      <td>148</td>\n",
       "      <td>Clear</td>\n",
       "      <td>...</td>\n",
       "      <td>26.63</td>\n",
       "      <td>1017</td>\n",
       "      <td>53</td>\n",
       "      <td>3.6</td>\n",
       "      <td>180</td>\n",
       "      <td>0</td>\n",
       "      <td>0.0</td>\n",
       "      <td>0.0</td>\n",
       "      <td>&lt;NA&gt;</td>\n",
       "      <td>&lt;NA&gt;</td>\n",
       "    </tr>\n",
       "    <tr>\n",
       "      <th>3</th>\n",
       "      <td>2022-04-17 13:44:02</td>\n",
       "      <td>Lisboa</td>\n",
       "      <td>38.7071</td>\n",
       "      <td>-9.13549</td>\n",
       "      <td>{'coord': {'lon': -9.1355, 'lat': 38.7071}, 'l...</td>\n",
       "      <td>30</td>\n",
       "      <td>30</td>\n",
       "      <td>18</td>\n",
       "      <td>18</td>\n",
       "      <td>Clouds</td>\n",
       "      <td>...</td>\n",
       "      <td>22.51</td>\n",
       "      <td>1014</td>\n",
       "      <td>58</td>\n",
       "      <td>9.77</td>\n",
       "      <td>350</td>\n",
       "      <td>20</td>\n",
       "      <td>0.0</td>\n",
       "      <td>0.0</td>\n",
       "      <td>&lt;NA&gt;</td>\n",
       "      <td>&lt;NA&gt;</td>\n",
       "    </tr>\n",
       "    <tr>\n",
       "      <th>4</th>\n",
       "      <td>2022-04-17 13:44:02</td>\n",
       "      <td>Porto</td>\n",
       "      <td>41.14961</td>\n",
       "      <td>-8.61099</td>\n",
       "      <td>{'coord': {'lon': -8.611, 'lat': 41.1496}, 'li...</td>\n",
       "      <td>15</td>\n",
       "      <td>15</td>\n",
       "      <td>31</td>\n",
       "      <td>31</td>\n",
       "      <td>Clear</td>\n",
       "      <td>...</td>\n",
       "      <td>22.89</td>\n",
       "      <td>1019</td>\n",
       "      <td>68</td>\n",
       "      <td>4.12</td>\n",
       "      <td>300</td>\n",
       "      <td>0</td>\n",
       "      <td>0.0</td>\n",
       "      <td>0.0</td>\n",
       "      <td>&lt;NA&gt;</td>\n",
       "      <td>&lt;NA&gt;</td>\n",
       "    </tr>\n",
       "  </tbody>\n",
       "</table>\n",
       "<p>5 rows × 24 columns</p>\n",
       "</div>"
      ],
      "text/plain": [
       "             datetime    city        lat      lon  \\\n",
       "0 2022-04-17 13:34:00  Lisboa    38.7071 -9.13549   \n",
       "1 2022-04-17 13:34:00   Porto   41.14961 -8.61099   \n",
       "2 2022-04-17 13:34:00    Faro  37.019356 -7.93044   \n",
       "3 2022-04-17 13:44:02  Lisboa    38.7071 -9.13549   \n",
       "4 2022-04-17 13:44:02   Porto   41.14961 -8.61099   \n",
       "\n",
       "                                        airPollution  currentSpeed  \\\n",
       "0  {'coord': {'lon': -9.1355, 'lat': 38.7071}, 'l...            15   \n",
       "1  {'coord': {'lon': -8.611, 'lat': 41.1496}, 'li...            15   \n",
       "2  {'coord': {'lon': -7.9304, 'lat': 37.0194}, 'l...            28   \n",
       "3  {'coord': {'lon': -9.1355, 'lat': 38.7071}, 'l...            30   \n",
       "4  {'coord': {'lon': -8.611, 'lat': 41.1496}, 'li...            15   \n",
       "\n",
       "   freeFlowSpeed  currentTravelTime  freeFlowTravelTime    main  ... temp_max  \\\n",
       "0             29                 36                  18  Clouds  ...    22.34   \n",
       "1             15                 31                  31  Clouds  ...    22.89   \n",
       "2             28                148                 148   Clear  ...    26.63   \n",
       "3             30                 18                  18  Clouds  ...    22.51   \n",
       "4             15                 31                  31   Clear  ...    22.89   \n",
       "\n",
       "   pressure  humidity  speed  deg  cloudiness (%)  rain  gust  sea_level  \\\n",
       "0      1015        59    7.2  340              20   0.0   0.0       <NA>   \n",
       "1      1020        68   4.12  300              20   0.0   0.0       <NA>   \n",
       "2      1017        53    3.6  180               0   0.0   0.0       <NA>   \n",
       "3      1014        58   9.77  350              20   0.0   0.0       <NA>   \n",
       "4      1019        68   4.12  300               0   0.0   0.0       <NA>   \n",
       "\n",
       "   grnd_level  \n",
       "0        <NA>  \n",
       "1        <NA>  \n",
       "2        <NA>  \n",
       "3        <NA>  \n",
       "4        <NA>  \n",
       "\n",
       "[5 rows x 24 columns]"
      ]
     },
     "execution_count": 99,
     "metadata": {},
     "output_type": "execute_result"
    }
   ],
   "source": [
    "for index, values in dataset.iterrows():\n",
    "    json_string = re.sub(r'\\'', r'\"', str(values['weather']))\n",
    "    json_object = json.loads(json_string)\n",
    "\n",
    "    weather_desc = re.split(r', ', str(json_object['weather']))\n",
    "    temperature = re.split(r', ', str(json_object['main']))\n",
    "    wind = re.split(r', ', str(json_object['wind']))\n",
    "    clouds = re.split(r', ', str(json_object['clouds']))\n",
    "    \n",
    "    if 'rain' in json_object:\n",
    "        rain = re.split(r', ', str(json_object['rain']))\n",
    "    else:\n",
    "        rain = ['nan']\n",
    "\n",
    "    for wd in weather_desc:\n",
    "        if re.search(r'main', wd) or re.search(r'description', wd):\n",
    "            pair = re.split(r': ', wd)\n",
    "            dataset.loc[dataset.index[index], re.sub(r'\\'', r'', pair[0])] = re.sub(r'\\'', r'', pair[1])\n",
    "\n",
    "    for t in temperature:\n",
    "        pair = re.split(r': ', re.sub(r'[\\{\\}]', r'', t))\n",
    "        dataset.loc[dataset.index[index], re.sub(r'\\'', r'', pair[0])] = round(float(pair[1]), 3)\n",
    "\n",
    "    for w in wind:\n",
    "        pair = re.split(r': ', re.sub(r'[\\{\\}]', r'', w))\n",
    "        dataset.loc[dataset.index[index], re.sub(r'\\'', r'', pair[0])] = round(float(pair[1]), 3)\n",
    "\n",
    "    for c in clouds:    \n",
    "        pair = re.split(r': ', re.sub(r'[\\{\\}]', r'', c))\n",
    "        dataset.loc[dataset.index[index], 'cloudiness (%)'] = int(pair[1])\n",
    "\n",
    "    for r in rain:\n",
    "        if not re.search(r'nan', r):\n",
    "            pair = re.split(r': ', re.sub(r'[\\{\\}]', r'', r))\n",
    "            dataset.loc[dataset.index[index], re.sub(r'\\'', r'', 'rain')] = round(float(pair[1]), 3)\n",
    "        else:\n",
    "            dataset.loc[dataset.index[index], re.sub(r'\\'', r'', 'rain')] = 0.0\n",
    "\n",
    "dataset['gust'] = dataset['gust'].fillna(0)\n",
    "dataset = dataset.drop(['weather'], axis = 1)\n",
    "dataset = dataset.convert_dtypes()\n",
    "dataset.head()"
   ]
  },
  {
   "cell_type": "markdown",
   "metadata": {},
   "source": [
    "### **1.3. Air Pollution**"
   ]
  },
  {
   "cell_type": "code",
   "execution_count": 100,
   "metadata": {},
   "outputs": [
    {
     "data": {
      "text/html": [
       "<div>\n",
       "<style scoped>\n",
       "    .dataframe tbody tr th:only-of-type {\n",
       "        vertical-align: middle;\n",
       "    }\n",
       "\n",
       "    .dataframe tbody tr th {\n",
       "        vertical-align: top;\n",
       "    }\n",
       "\n",
       "    .dataframe thead th {\n",
       "        text-align: right;\n",
       "    }\n",
       "</style>\n",
       "<table border=\"1\" class=\"dataframe\">\n",
       "  <thead>\n",
       "    <tr style=\"text-align: right;\">\n",
       "      <th></th>\n",
       "      <th>datetime</th>\n",
       "      <th>city</th>\n",
       "      <th>lat</th>\n",
       "      <th>lon</th>\n",
       "      <th>currentSpeed</th>\n",
       "      <th>freeFlowSpeed</th>\n",
       "      <th>currentTravelTime</th>\n",
       "      <th>freeFlowTravelTime</th>\n",
       "      <th>main</th>\n",
       "      <th>description</th>\n",
       "      <th>...</th>\n",
       "      <th>gust</th>\n",
       "      <th>aqi</th>\n",
       "      <th>co</th>\n",
       "      <th>no</th>\n",
       "      <th>no2</th>\n",
       "      <th>o3</th>\n",
       "      <th>so2</th>\n",
       "      <th>pm2_5</th>\n",
       "      <th>pm10</th>\n",
       "      <th>nh3</th>\n",
       "    </tr>\n",
       "  </thead>\n",
       "  <tbody>\n",
       "    <tr>\n",
       "      <th>0</th>\n",
       "      <td>2022-04-17 13:34:00</td>\n",
       "      <td>Lisboa</td>\n",
       "      <td>38.7071</td>\n",
       "      <td>-9.13549</td>\n",
       "      <td>15</td>\n",
       "      <td>29</td>\n",
       "      <td>36</td>\n",
       "      <td>18</td>\n",
       "      <td>Clouds</td>\n",
       "      <td>few clouds</td>\n",
       "      <td>...</td>\n",
       "      <td>0.0</td>\n",
       "      <td>2</td>\n",
       "      <td>213.62</td>\n",
       "      <td>0.25</td>\n",
       "      <td>1.15</td>\n",
       "      <td>108.72</td>\n",
       "      <td>1.25</td>\n",
       "      <td>3.58</td>\n",
       "      <td>7.15</td>\n",
       "      <td>1.5</td>\n",
       "    </tr>\n",
       "    <tr>\n",
       "      <th>1</th>\n",
       "      <td>2022-04-17 13:34:00</td>\n",
       "      <td>Porto</td>\n",
       "      <td>41.14961</td>\n",
       "      <td>-8.61099</td>\n",
       "      <td>15</td>\n",
       "      <td>15</td>\n",
       "      <td>31</td>\n",
       "      <td>31</td>\n",
       "      <td>Clouds</td>\n",
       "      <td>few clouds</td>\n",
       "      <td>...</td>\n",
       "      <td>0.0</td>\n",
       "      <td>2</td>\n",
       "      <td>213.62</td>\n",
       "      <td>0.21</td>\n",
       "      <td>1.31</td>\n",
       "      <td>103.0</td>\n",
       "      <td>1.91</td>\n",
       "      <td>7.58</td>\n",
       "      <td>12.97</td>\n",
       "      <td>1.31</td>\n",
       "    </tr>\n",
       "    <tr>\n",
       "      <th>2</th>\n",
       "      <td>2022-04-17 13:34:00</td>\n",
       "      <td>Faro</td>\n",
       "      <td>37.019356</td>\n",
       "      <td>-7.93044</td>\n",
       "      <td>28</td>\n",
       "      <td>28</td>\n",
       "      <td>148</td>\n",
       "      <td>148</td>\n",
       "      <td>Clear</td>\n",
       "      <td>clear sky</td>\n",
       "      <td>...</td>\n",
       "      <td>0.0</td>\n",
       "      <td>2</td>\n",
       "      <td>193.6</td>\n",
       "      <td>0.06</td>\n",
       "      <td>0.34</td>\n",
       "      <td>101.57</td>\n",
       "      <td>0.12</td>\n",
       "      <td>4.56</td>\n",
       "      <td>12.71</td>\n",
       "      <td>1.11</td>\n",
       "    </tr>\n",
       "    <tr>\n",
       "      <th>3</th>\n",
       "      <td>2022-04-17 13:44:02</td>\n",
       "      <td>Lisboa</td>\n",
       "      <td>38.7071</td>\n",
       "      <td>-9.13549</td>\n",
       "      <td>30</td>\n",
       "      <td>30</td>\n",
       "      <td>18</td>\n",
       "      <td>18</td>\n",
       "      <td>Clouds</td>\n",
       "      <td>few clouds</td>\n",
       "      <td>...</td>\n",
       "      <td>0.0</td>\n",
       "      <td>2</td>\n",
       "      <td>213.62</td>\n",
       "      <td>0.25</td>\n",
       "      <td>1.15</td>\n",
       "      <td>108.72</td>\n",
       "      <td>1.25</td>\n",
       "      <td>3.58</td>\n",
       "      <td>7.15</td>\n",
       "      <td>1.5</td>\n",
       "    </tr>\n",
       "    <tr>\n",
       "      <th>4</th>\n",
       "      <td>2022-04-17 13:44:02</td>\n",
       "      <td>Porto</td>\n",
       "      <td>41.14961</td>\n",
       "      <td>-8.61099</td>\n",
       "      <td>15</td>\n",
       "      <td>15</td>\n",
       "      <td>31</td>\n",
       "      <td>31</td>\n",
       "      <td>Clear</td>\n",
       "      <td>clear sky</td>\n",
       "      <td>...</td>\n",
       "      <td>0.0</td>\n",
       "      <td>2</td>\n",
       "      <td>213.62</td>\n",
       "      <td>0.21</td>\n",
       "      <td>1.31</td>\n",
       "      <td>103.0</td>\n",
       "      <td>1.91</td>\n",
       "      <td>7.58</td>\n",
       "      <td>12.97</td>\n",
       "      <td>1.31</td>\n",
       "    </tr>\n",
       "  </tbody>\n",
       "</table>\n",
       "<p>5 rows × 30 columns</p>\n",
       "</div>"
      ],
      "text/plain": [
       "             datetime    city        lat      lon  currentSpeed  \\\n",
       "0 2022-04-17 13:34:00  Lisboa    38.7071 -9.13549            15   \n",
       "1 2022-04-17 13:34:00   Porto   41.14961 -8.61099            15   \n",
       "2 2022-04-17 13:34:00    Faro  37.019356 -7.93044            28   \n",
       "3 2022-04-17 13:44:02  Lisboa    38.7071 -9.13549            30   \n",
       "4 2022-04-17 13:44:02   Porto   41.14961 -8.61099            15   \n",
       "\n",
       "   freeFlowSpeed  currentTravelTime  freeFlowTravelTime    main description  \\\n",
       "0             29                 36                  18  Clouds  few clouds   \n",
       "1             15                 31                  31  Clouds  few clouds   \n",
       "2             28                148                 148   Clear   clear sky   \n",
       "3             30                 18                  18  Clouds  few clouds   \n",
       "4             15                 31                  31   Clear   clear sky   \n",
       "\n",
       "   ...  gust  aqi      co    no   no2      o3   so2  pm2_5   pm10   nh3  \n",
       "0  ...   0.0    2  213.62  0.25  1.15  108.72  1.25   3.58   7.15   1.5  \n",
       "1  ...   0.0    2  213.62  0.21  1.31   103.0  1.91   7.58  12.97  1.31  \n",
       "2  ...   0.0    2   193.6  0.06  0.34  101.57  0.12   4.56  12.71  1.11  \n",
       "3  ...   0.0    2  213.62  0.25  1.15  108.72  1.25   3.58   7.15   1.5  \n",
       "4  ...   0.0    2  213.62  0.21  1.31   103.0  1.91   7.58  12.97  1.31  \n",
       "\n",
       "[5 rows x 30 columns]"
      ]
     },
     "execution_count": 100,
     "metadata": {},
     "output_type": "execute_result"
    }
   ],
   "source": [
    "for index, values in dataset.iterrows():\n",
    "    json_string = re.sub(r'\\'', r'\"', str(values['airPollution']))\n",
    "    json_object = json.loads(json_string)\n",
    "\n",
    "    features = re.split(r', ', str(json_object['list']))   \n",
    "\n",
    "    for f in features:\n",
    "        f = re.sub(r'[\\{\\}]', r'', f)\n",
    "\n",
    "        if re.search(r'dt', f):\n",
    "            pair = re.split(r': ', f)\n",
    "            dataset.loc[dataset.index[index], re.sub(r'\\'', r'', pair[0])] = str(pair[1][:-1])\n",
    "\n",
    "        elif re.search(r'main', f) or re.search(r'components', f):\n",
    "            pair = re.split(r': ', f)\n",
    "            dataset.loc[dataset.index[index], re.sub(r'\\'', r'', pair[1])] = round(float(pair[2]), 3)\n",
    "\n",
    "        else:\n",
    "            pair = re.split(r': ', f)\n",
    "            dataset.loc[dataset.index[index], re.sub(r'\\'', r'', pair[0])] = round(float(pair[1]), 3)\n",
    "\n",
    "\n",
    "dataset = dataset.drop(['airPollution'], axis = 1)\n",
    "dataset = dataset.convert_dtypes()\n",
    "dataset = dataset.drop(['dt', 'sea_level', 'grnd_level'], axis = 1)\n",
    "dataset.head()"
   ]
  },
  {
   "cell_type": "markdown",
   "metadata": {},
   "source": [
    "***\n",
    "# <center>**Data Description and Exploration**<center>\n",
    "***"
   ]
  },
  {
   "cell_type": "markdown",
   "metadata": {},
   "source": [
    "## **1. Traffic**"
   ]
  },
  {
   "cell_type": "markdown",
   "metadata": {},
   "source": [
    "### **1.1. Description**"
   ]
  },
  {
   "cell_type": "markdown",
   "metadata": {},
   "source": [
    "&emsp; &emsp; `currentSpeed -` A velocidade média atual do local selecionado, em `km/h` (quilometros por hora). O valor é calculado a partir do &emsp;`currentTravelTime` e do comprimento do segmento selecionado.\n",
    "\n",
    "&emsp; &emsp; `freeFlowSpeed -` A velocidade de tráfego livre esperada em condições ideais, expressa em `km/h`. Este valor está relacionado com `freeFlowTravelTime`.\n",
    "\n",
    "&emsp; &emsp; `currentTravelTime -` O tempo de viagem atual em `segundos` com base em medições em tempo real entre os locais definidos na direção especificada.\n",
    "\n",
    "&emsp; &emsp; `freeFlowTravelTime -` O tempo de viagem em `segundos` que seria esperado em condições ideais de tráfego livre."
   ]
  },
  {
   "cell_type": "markdown",
   "metadata": {},
   "source": [
    "### **1.2. Exploration**"
   ]
  },
  {
   "cell_type": "code",
   "execution_count": 101,
   "metadata": {},
   "outputs": [
    {
     "data": {
      "text/plain": [
       "<AxesSubplot:xlabel='currentSpeed', ylabel='Count'>"
      ]
     },
     "execution_count": 101,
     "metadata": {},
     "output_type": "execute_result"
    },
    {
     "data": {
      "image/png": "[encoded data removed]",
      "text/plain": [
       "<Figure size 864x432 with 1 Axes>"
      ]
     },
     "metadata": {
      "needs_background": "light"
     },
     "output_type": "display_data"
    }
   ],
   "source": [
    "# Histograma da distribuição de velocidade média atual\n",
    "\n",
    "sns.histplot(dataset[dataset.city == CITY][\"currentSpeed\"])"
   ]
  },
  {
   "cell_type": "code",
   "execution_count": 102,
   "metadata": {},
   "outputs": [
    {
     "data": {
      "text/plain": [
       "<AxesSubplot:xlabel='freeFlowSpeed', ylabel='Count'>"
      ]
     },
     "execution_count": 102,
     "metadata": {},
     "output_type": "execute_result"
    },
    {
     "data": {
      "image/png": "[encoded data removed]",
      "text/plain": [
       "<Figure size 864x432 with 1 Axes>"
      ]
     },
     "metadata": {
      "needs_background": "light"
     },
     "output_type": "display_data"
    }
   ],
   "source": [
    "# Histograma da distribuição de velocidade expectável em condições ideais\n",
    "\n",
    "sns.histplot(dataset[dataset.city == CITY][\"freeFlowSpeed\"])"
   ]
  },
  {
   "cell_type": "code",
   "execution_count": 103,
   "metadata": {},
   "outputs": [
    {
     "data": {
      "text/plain": [
       "<AxesSubplot:xlabel='currentTravelTime', ylabel='Count'>"
      ]
     },
     "execution_count": 103,
     "metadata": {},
     "output_type": "execute_result"
    },
    {
     "data": {
      "image/png": "[encoded data removed]",
      "text/plain": [
       "<Figure size 864x432 with 1 Axes>"
      ]
     },
     "metadata": {
      "needs_background": "light"
     },
     "output_type": "display_data"
    }
   ],
   "source": [
    "# Histograma da distribuição do tempo de viagem atual\n",
    "\n",
    "sns.histplot(dataset[dataset.city == CITY][\"currentTravelTime\"])"
   ]
  },
  {
   "cell_type": "code",
   "execution_count": 104,
   "metadata": {},
   "outputs": [
    {
     "data": {
      "text/plain": [
       "<AxesSubplot:xlabel='freeFlowTravelTime', ylabel='Count'>"
      ]
     },
     "execution_count": 104,
     "metadata": {},
     "output_type": "execute_result"
    },
    {
     "data": {
      "image/png": "[encoded data removed]",
      "text/plain": [
       "<Figure size 864x432 with 1 Axes>"
      ]
     },
     "metadata": {
      "needs_background": "light"
     },
     "output_type": "display_data"
    }
   ],
   "source": [
    "# Histograma da distribuição do tempo de viagem em condições ideais\n",
    "\n",
    "sns.histplot(dataset[dataset.city == CITY][\"freeFlowTravelTime\"])"
   ]
  },
  {
   "cell_type": "markdown",
   "metadata": {},
   "source": [
    "#### **1.2.1. Average Speed Difference**"
   ]
  },
  {
   "cell_type": "markdown",
   "metadata": {},
   "source": [
    "## <center> **`asd = |ffs - cs|`** <center>\n",
    "\n",
    "##### <center> `asd -` averageSpeedDifference <center>\n",
    "##### <center> `ffs -` freeFlowSpeed<center>\n",
    "##### <center> `cs -` currentSpeed<center>"
   ]
  },
  {
   "cell_type": "code",
   "execution_count": 105,
   "metadata": {},
   "outputs": [
    {
     "data": {
      "image/png": "[encoded data removed]",
      "text/plain": [
       "<Figure size 864x432 with 1 Axes>"
      ]
     },
     "metadata": {
      "needs_background": "light"
     },
     "output_type": "display_data"
    }
   ],
   "source": [
    "for index, values in dataset.iterrows():\n",
    "    dataset.loc[dataset.index[index], 'averageSpeedDifference'] = int(abs(dataset.loc[dataset.index[index], 'freeFlowSpeed'] - \n",
    "                                                                        dataset.loc[dataset.index[index], 'currentSpeed']))\n",
    "\n",
    "\n",
    "# Histograma da distribuição do valor absoluto da diferença entre a velocidade expectável em condições ideais e a velocidade média\n",
    "\n",
    "sns.histplot(dataset[dataset.city == CITY][\"averageSpeedDifference\"])\n",
    "dataset = dataset.convert_dtypes()"
   ]
  },
  {
   "cell_type": "markdown",
   "metadata": {},
   "source": [
    "#### **1.2.2. Average Time Difference**"
   ]
  },
  {
   "cell_type": "markdown",
   "metadata": {},
   "source": [
    "## <center> **`atd = |fftt - ctt|`** <center>\n",
    "\n",
    "##### <center> `atd -` averageTimeDifference <center>\n",
    "##### <center> `fftt -` freeFlowTravelTime<center>\n",
    "##### <center> `ctt -` currentTravelTime<center>"
   ]
  },
  {
   "cell_type": "code",
   "execution_count": 106,
   "metadata": {},
   "outputs": [
    {
     "data": {
      "image/png": "[encoded data removed]",
      "text/plain": [
       "<Figure size 864x432 with 1 Axes>"
      ]
     },
     "metadata": {
      "needs_background": "light"
     },
     "output_type": "display_data"
    }
   ],
   "source": [
    "for index, values in dataset.iterrows():\n",
    "    dataset.loc[dataset.index[index], 'averageTimeDifference'] = int(abs(dataset.loc[dataset.index[index], 'freeFlowTravelTime'] - \n",
    "                                                                        dataset.loc[dataset.index[index], 'currentTravelTime']))\n",
    "\n",
    "\n",
    "# Histograma da distribuição do valor absoluto da diferença entre o tempo de viagem em condições ideais e o tempo de viagem atual\n",
    "\n",
    "sns.histplot(dataset[dataset.city == CITY][\"averageTimeDifference\"])\n",
    "dataset = dataset.convert_dtypes()"
   ]
  },
  {
   "cell_type": "markdown",
   "metadata": {},
   "source": [
    "#### **1.2.3. Datetime division**"
   ]
  },
  {
   "cell_type": "code",
   "execution_count": 107,
   "metadata": {},
   "outputs": [],
   "source": [
    "dataset['datetime'] = pd.to_datetime(dataset['datetime'])\n",
    "\n",
    "# weekday - Monday = 0, Sunday = 6\n",
    "dataset['day'] = dataset.datetime.dt.weekday\n",
    "dataset['year'] = dataset.datetime.dt.year\n",
    "dataset['month'] = dataset.datetime.dt.month\n",
    "dataset['week'] = dataset.datetime.dt.isocalendar().week\n",
    "dataset['hour'] = dataset.datetime.dt.hour\n",
    "dataset['minute'] = dataset.datetime.dt.minute\n",
    "\n",
    "dataset = dataset.drop(['datetime'], axis = 1)"
   ]
  },
  {
   "cell_type": "code",
   "execution_count": 108,
   "metadata": {},
   "outputs": [
    {
     "name": "stderr",
     "output_type": "stream",
     "text": [
      "C:\\Users\\ASUS\\anaconda3\\envs\\aula1\\lib\\site-packages\\ipykernel_launcher.py:3: UserWarning: Boolean Series key will be reindexed to match DataFrame index.\n",
      "  This is separate from the ipykernel package so we can avoid doing imports until\n"
     ]
    },
    {
     "data": {
      "text/plain": [
       "<AxesSubplot:xlabel='hour', ylabel='averageSpeedDifference'>"
      ]
     },
     "execution_count": 108,
     "metadata": {},
     "output_type": "execute_result"
    },
    {
     "data": {
      "image/png": "[encoded data removed]",
      "text/plain": [
       "<Figure size 864x432 with 1 Axes>"
      ]
     },
     "metadata": {
      "needs_background": "light"
     },
     "output_type": "display_data"
    }
   ],
   "source": [
    "# Boxplot do average speed difference para as horas do dia\n",
    "\n",
    "sns.boxplot(x = dataset[dataset.city == CITY][dataset.city == CITY].hour, y = dataset.averageSpeedDifference)"
   ]
  },
  {
   "cell_type": "code",
   "execution_count": 109,
   "metadata": {},
   "outputs": [
    {
     "data": {
      "text/plain": [
       "<AxesSubplot:xlabel='hour', ylabel='averageTimeDifference'>"
      ]
     },
     "execution_count": 109,
     "metadata": {},
     "output_type": "execute_result"
    },
    {
     "data": {
      "image/png": "[encoded data removed]",
      "text/plain": [
       "<Figure size 864x432 with 1 Axes>"
      ]
     },
     "metadata": {
      "needs_background": "light"
     },
     "output_type": "display_data"
    }
   ],
   "source": [
    "# Boxplot do average time difference para as horas do dia\n",
    "\n",
    "sns.boxplot(x = dataset[dataset.city == CITY].hour, y = dataset[dataset.city == CITY].averageTimeDifference)"
   ]
  },
  {
   "cell_type": "code",
   "execution_count": 110,
   "metadata": {},
   "outputs": [
    {
     "data": {
      "text/plain": [
       "<AxesSubplot:xlabel='day', ylabel='averageSpeedDifference'>"
      ]
     },
     "execution_count": 110,
     "metadata": {},
     "output_type": "execute_result"
    },
    {
     "data": {
      "image/png": "[encoded data removed]",
      "text/plain": [
       "<Figure size 864x432 with 1 Axes>"
      ]
     },
     "metadata": {
      "needs_background": "light"
     },
     "output_type": "display_data"
    }
   ],
   "source": [
    "# Boxplot do average speed difference para os dias da semana\n",
    "\n",
    "sns.boxplot(x = dataset[dataset.city == CITY].day, y = dataset[dataset.city == CITY].averageSpeedDifference)"
   ]
  },
  {
   "cell_type": "code",
   "execution_count": 111,
   "metadata": {},
   "outputs": [
    {
     "data": {
      "text/plain": [
       "<AxesSubplot:xlabel='day', ylabel='averageTimeDifference'>"
      ]
     },
     "execution_count": 111,
     "metadata": {},
     "output_type": "execute_result"
    },
    {
     "data": {
      "image/png": "[encoded data removed]",
      "text/plain": [
       "<Figure size 864x432 with 1 Axes>"
      ]
     },
     "metadata": {
      "needs_background": "light"
     },
     "output_type": "display_data"
    }
   ],
   "source": [
    "# Boxplot do average time difference para os dias da semana\n",
    "\n",
    "sns.boxplot(x = dataset[dataset.city == CITY].day, y = dataset[dataset.city == CITY].averageTimeDifference)"
   ]
  },
  {
   "cell_type": "markdown",
   "metadata": {},
   "source": [
    "### **1.3. Problems and Solutions**"
   ]
  },
  {
   "cell_type": "markdown",
   "metadata": {},
   "source": [
    "&emsp; &emsp; `-` Turismo, verificar os pontos turísticos cujo o tempo nas filas de espera rodoviárias é melhor para possível visita\n",
    "\n",
    "&emsp; &emsp; `-` Lazer, verificar os dias da semana que melhor se adequam a uma saida\n",
    "\n",
    "&emsp; &emsp; `-` Redução da congestão, uma vez que sabendo os picos diários de tráfego é possível distribuir uniformemente as saidas de casa, \n",
    "trabalho, etc\n",
    "\n",
    "&emsp; &emsp; `-` Planeamento urbano, dado que cidades com alta movimentação rodoviária são excelentes pontos de partida para <br> &emsp; &ensp; &emsp; inovação de espaços e infraestruturas\n",
    "\n",
    "&emsp; &emsp; `-` A otimização de pontos sublinhados anteriormente pode se debruçar em prosperidade no consumo energéticos de carros elétricos, energias <br> &emsp; &ensp; &emsp; não renováveis como petróleo e, por outro lado, o aproveitamento dos transportes públicos\n",
    "\n",
    "&emsp; &emsp; `-` Previsão de tráfego rodoviário, para efeitos de prevenção ou adoção de pontos acima mencionados"
   ]
  },
  {
   "cell_type": "markdown",
   "metadata": {},
   "source": [
    "***"
   ]
  },
  {
   "cell_type": "markdown",
   "metadata": {},
   "source": [
    "## **2. Weather**"
   ]
  },
  {
   "cell_type": "markdown",
   "metadata": {},
   "source": [
    "### **2.1. Description**"
   ]
  },
  {
   "cell_type": "markdown",
   "metadata": {},
   "source": [
    "&emsp; &emsp; `main -` A condição geral do tempo.\n",
    "\n",
    "&emsp; &emsp; `rain -` O volume de chuva na última hora em mm.\n",
    "\n",
    "&emsp; &emsp; `description -` A condição mais detalhada do estado do céu.\n",
    "\n",
    "&emsp; &emsp; `temp -` A temperatura medida para o momento.\n",
    "\n",
    "&emsp; &emsp; `feels_like -` A temperatura sentida por uma pessoa para o momento.\n",
    "\n",
    "&emsp; &emsp; `temp_min -` A temperatura mínima para o momento.\n",
    "\n",
    "&emsp; &emsp; `temp_max -` A temperatura máxima para o momento.\n",
    "\n",
    "&emsp; &emsp; `pressure -` A pressão atmosférica ao nível do mar, em hPa, para o momento.\n",
    "\n",
    "&emsp; &emsp; `humidity -` A percentagem de humidade no ar.\n",
    "\n",
    "&emsp; &emsp; `speed -` A velocidade do vento em m/s.\n",
    "\n",
    "&emsp; &emsp; `deg -` O sentido do vento. (Norte - 0, Este - 90, Sul - 180, Oeste - 270)\n",
    "\n",
    "&emsp; &emsp; `cloudiness `- A percentagem do céu coberta por nuvens.\n",
    "\n",
    "&emsp; &emsp; `gust -` A rajada do vento em m/s."
   ]
  },
  {
   "cell_type": "markdown",
   "metadata": {},
   "source": [
    "### **2.2. Exploration**"
   ]
  },
  {
   "cell_type": "code",
   "execution_count": 112,
   "metadata": {},
   "outputs": [
    {
     "data": {
      "text/plain": [
       "<AxesSubplot:xlabel='city', ylabel='temp'>"
      ]
     },
     "execution_count": 112,
     "metadata": {},
     "output_type": "execute_result"
    },
    {
     "data": {
      "image/png": "[encoded data removed]",
      "text/plain": [
       "<Figure size 864x432 with 1 Axes>"
      ]
     },
     "metadata": {
      "needs_background": "light"
     },
     "output_type": "display_data"
    }
   ],
   "source": [
    "# Boxplot por cidade para temperatura\n",
    "\n",
    "sns.boxplot(x = dataset.city, \n",
    "            y = dataset.temp)"
   ]
  },
  {
   "cell_type": "code",
   "execution_count": 113,
   "metadata": {},
   "outputs": [
    {
     "data": {
      "text/plain": [
       "<AxesSubplot:xlabel='city', ylabel='rain'>"
      ]
     },
     "execution_count": 113,
     "metadata": {},
     "output_type": "execute_result"
    },
    {
     "data": {
      "image/png": "[encoded data removed]",
      "text/plain": [
       "<Figure size 864x432 with 2 Axes>"
      ]
     },
     "metadata": {
      "needs_background": "light"
     },
     "output_type": "display_data"
    }
   ],
   "source": [
    "_, axis = plt.subplots(1, 2)\n",
    "\n",
    "# Histograma por cidade para quantidade de chuva\n",
    "sns.histplot(dataset[dataset.city == CITY][\"rain\"], \n",
    "             ax = axis[0])\n",
    "\n",
    "\n",
    "# Boxplot por cidade para quantidade de chuva\n",
    "\n",
    "sns.histplot(x = dataset.city, \n",
    "            y = dataset.rain, ax = axis[1])"
   ]
  },
  {
   "cell_type": "code",
   "execution_count": 114,
   "metadata": {},
   "outputs": [
    {
     "data": {
      "text/plain": [
       "<AxesSubplot:xlabel='city', ylabel='humidity'>"
      ]
     },
     "execution_count": 114,
     "metadata": {},
     "output_type": "execute_result"
    },
    {
     "data": {
      "image/png": "[encoded data removed]",
      "text/plain": [
       "<Figure size 864x432 with 1 Axes>"
      ]
     },
     "metadata": {
      "needs_background": "light"
     },
     "output_type": "display_data"
    }
   ],
   "source": [
    "# Boxplot por cidade para humidade\n",
    "\n",
    "sns.boxplot(x = dataset.city, \n",
    "            y = dataset.humidity)"
   ]
  },
  {
   "cell_type": "code",
   "execution_count": 115,
   "metadata": {},
   "outputs": [
    {
     "data": {
      "text/plain": [
       "<AxesSubplot:xlabel='city', ylabel='pressure'>"
      ]
     },
     "execution_count": 115,
     "metadata": {},
     "output_type": "execute_result"
    },
    {
     "data": {
      "image/png": "[encoded data removed]",
      "text/plain": [
       "<Figure size 864x432 with 1 Axes>"
      ]
     },
     "metadata": {
      "needs_background": "light"
     },
     "output_type": "display_data"
    }
   ],
   "source": [
    "# Boxplot por cidade para pressão atmosférica\n",
    "\n",
    "sns.boxplot(x = dataset.city, \n",
    "            y = dataset.pressure)"
   ]
  },
  {
   "cell_type": "code",
   "execution_count": 116,
   "metadata": {},
   "outputs": [
    {
     "data": {
      "image/png": "[encoded data removed]",
      "text/plain": [
       "<Figure size 864x432 with 2 Axes>"
      ]
     },
     "metadata": {
      "needs_background": "light"
     },
     "output_type": "display_data"
    }
   ],
   "source": [
    "_, axis = plt.subplots(1, 2)\n",
    "\n",
    "\n",
    "# Histograma das probabilidades de cada temperatura\n",
    "\n",
    "sns.histplot(dataset[dataset.city == CITY][\"temp\"], \n",
    "             stat = 'probability', ax = axis[0])\n",
    "\n",
    "\n",
    "# Gráfico da Função distribuição acumulada das temperaturas\n",
    "\n",
    "sns.histplot(dataset[dataset.city == CITY][\"temp\"], \n",
    "             stat = 'probability', \n",
    "             cumulative = True, \n",
    "             fill = False, \n",
    "             element = 'step', ax = axis[1])\n",
    "\n",
    "\n",
    "plt.show()"
   ]
  },
  {
   "cell_type": "code",
   "execution_count": 117,
   "metadata": {},
   "outputs": [
    {
     "data": {
      "text/plain": [
       "<AxesSubplot:ylabel='Distribuição da condição geral'>"
      ]
     },
     "execution_count": 117,
     "metadata": {},
     "output_type": "execute_result"
    },
    {
     "data": {
      "image/png": "[encoded data removed]",
      "text/plain": [
       "<Figure size 864x432 with 1 Axes>"
      ]
     },
     "metadata": {},
     "output_type": "display_data"
    }
   ],
   "source": [
    "# Distribuição da condição geral de tempo\n",
    "\n",
    "dataset[dataset['city'] == CITY].groupby('description').size().plot(kind = 'pie', \n",
    "                                           autopct = '%.2f', \n",
    "                                           ylabel = 'Distribuição da condição geral')"
   ]
  },
  {
   "cell_type": "code",
   "execution_count": 118,
   "metadata": {},
   "outputs": [
    {
     "data": {
      "text/plain": [
       "<AxesSubplot:xlabel='deg', ylabel='Count'>"
      ]
     },
     "execution_count": 118,
     "metadata": {},
     "output_type": "execute_result"
    },
    {
     "data": {
      "image/png": "[encoded data removed]",
      "text/plain": [
       "<Figure size 864x432 with 1 Axes>"
      ]
     },
     "metadata": {
      "needs_background": "light"
     },
     "output_type": "display_data"
    }
   ],
   "source": [
    "# Probabilidade da direção do vento\n",
    "\n",
    "sns.histplot(dataset[dataset['city'] == CITY]['deg'])"
   ]
  },
  {
   "cell_type": "code",
   "execution_count": 119,
   "metadata": {},
   "outputs": [
    {
     "data": {
      "text/plain": [
       "<AxesSubplot:xlabel='speed', ylabel='Probability'>"
      ]
     },
     "execution_count": 119,
     "metadata": {},
     "output_type": "execute_result"
    },
    {
     "data": {
      "image/png": "[encoded data removed]",
      "text/plain": [
       "<Figure size 864x432 with 1 Axes>"
      ]
     },
     "metadata": {
      "needs_background": "light"
     },
     "output_type": "display_data"
    }
   ],
   "source": [
    "# Probabilidade da velocidade do vento\n",
    "\n",
    "sns.histplot(dataset[dataset['city'] == CITY]['speed'], \n",
    "             stat = 'probability')"
   ]
  },
  {
   "cell_type": "code",
   "execution_count": 120,
   "metadata": {},
   "outputs": [
    {
     "data": {
      "text/plain": [
       "<AxesSubplot:xlabel='humidity', ylabel='Count'>"
      ]
     },
     "execution_count": 120,
     "metadata": {},
     "output_type": "execute_result"
    },
    {
     "data": {
      "image/png": "[encoded data removed]",
      "text/plain": [
       "<Figure size 864x432 with 1 Axes>"
      ]
     },
     "metadata": {
      "needs_background": "light"
     },
     "output_type": "display_data"
    }
   ],
   "source": [
    "# Histograma da distribuição da humidade\n",
    "\n",
    "sns.histplot(dataset[dataset.city == CITY][\"humidity\"])"
   ]
  },
  {
   "cell_type": "markdown",
   "metadata": {},
   "source": [
    "### **2.3. Problems and Solutions**"
   ]
  },
  {
   "cell_type": "markdown",
   "metadata": {},
   "source": [
    "### 2.3.1. Potencial energético das cidades\n",
    "\n",
    "&emsp; `Porto`:\n",
    "\n",
    "&emsp; &emsp; A maior parte dos paineis fotovoltaicos atingem o seu pico de eficiência aos 25ºC e quando têm luz do sol direta. Como podemos ver pelos seguintes gráficos, a cidade do porto é uma excelente candidata a fazer uso de paineis fotovoltaicos devido às suas temperaturas amenas e com a pouca quantidade de nuvens a cobrir o céu. A brisa que também se sente com bastante frequência serve para combater o potencial sobreaquecimento dos painéis que diminui com o vento a passar por debaixo dos painéis.\n",
    "\n",
    "&emsp; &emsp; Qualquer edíficio com capacidade para tal pode sustentar a manutenção de paineis fotovoltaicos, com maior valor nos edificios empresariais, para desta forma satisfazerem uma parte das suas necessidades energéticas.\n",
    "\n",
    "&emsp; &emsp; Devido à ausência de ventos fortes no Porto, a cidade é fraca candidata à exploração energética através das capacidades do vento.\n",
    "\n",
    "<br>\n",
    "\n",
    "&emsp; `Lisboa`:\n",
    "\n",
    "\n",
    "&emsp; &emsp; A cidade de Lisboa não tem a mesma capacidade que o Porto, logo nas temperaturas é possível ver que as temperaturas são geralmente inferiores às do Porto, logo os painéis não conseguirão o mesmo potencial elétrico. A nível de cobertura do céu, é possível ver que apesar de maioritariamente claro, a cidade de Lisboa tem maior probabilidade de ter alguma cobertura. Para finalizar, a velocidade do vento que se faz sentir é significativamente maior, o que complementado com as temperaturas inferiores iria ainda mais diminuir os potenciais fotovoltaicos.\n",
    "\n",
    "&emsp; &emsp; Os ventos podem precisamente potenciar é uma produção de energia através de turbinas eólicas, pois a força destes ventos é suficiente para atingir a melhor potência possível de uma torre. Uma possível solução seria a implementação de turbinas (horizontais ou verticais) nos edifícios ou infraestruturas públicas capazes de providenciar parte ou a totalidade dos requisitos energéticos da infraestrutura. A criatividade na conceção das infraestruturas mais altas de forma a estas \"conduzirem\" os ventos para zonas estratégicas de posicionamento de turbinas eólicas pode também potenciar ao máximo a produção de energia.\n",
    "\n",
    "<br>\n",
    "\n",
    "&emsp; `Faro`:\n",
    "\n",
    "&emsp; &emsp; A cidade de Faro apesar de maioritamente ter o céu não coberto tem uma maior volatilidade nas temperaturas, o que não é muito positivo pois há períodos em que a eficiência energética é baixa devido às temperaturas baixas ou devido ao sobreaquecimento do painel. Uma menor velocidade dos ventos também não contribui para um maior arejamento dos painéis de forma a estes manterem uma menor temperatura.\n",
    "\n",
    "&emsp; &emsp; Os fracos ventos são também bastante indicativos de que não compensa um investimento na produção de energia através de turbinas eólicas.\n",
    "\n",
    "\n",
    "### 2.3.2. Potencial pluvial das cidades\n",
    "\n",
    "&emsp; &emsp; O ser humano é composto 70\\% por água e como tal é apenas natural que necessite dela para sobreviver. No entanto, os valores de precipitação observados para as três cidades no período entre Abril e Maio é preocupante.\n",
    "\n",
    "&emsp; `Porto`:\n",
    "            \n",
    "&emsp; &emsp; Na cidade do Porto, apesar de ser a cidade a registar mais pluviosidade entre as três, a quantidade da mesma é altamente reduzida levantando preocupações a nível da capacidade da cidade de sustentar a distribuição de água durante os períodos de verão em que é esperado que não chova. Para tentar combater a escassez de água é necessário mudar a abordagem de que a água é abundante e por exemplo não usar sanitas à base de água. Já há varias inovações disponíveis nomeadamente de sanitas que incineram as fezes produzidas como forma de se ver livre delas. A recolha de algumas águas pluviais através de coletores nos topos dos edifícios para tarefas básicas como lavar as mãos ou regar os jardins no tempo mais seca também pode ajudar a colmatar a falta de chuva.\n",
    "        \n",
    "<br>\n",
    "\n",
    "&emsp; `Lisboa`:\n",
    "\n",
    "&emsp; &emsp; Na cidade de Lisboa, é registada ainda menos pluviosidade que no Porto tornando a implementação de algumas soluções propostas ainda mais importantes para que a cidade não venha a sofrer com a falta de água e o consumidor tenha que ver aumentos de preço nas águas.\n",
    "\n",
    "<br>\n",
    "\n",
    "&emsp; `Faro`:\n",
    "\n",
    "&emsp; &emsp; A cidade de Faro conta com ainda menos pluviosidade que em Lisboa, o que torna a escassez de água uma ameaça bastante real e próxima se estes períodos de seca se prolongarem sem a implementação de algum sistema de controlo. A população de Faro pode vir ainda a enfrentar o racionamento da água ao povo, ou à morte de bastantes colheitas agrícolas devido à falta de água.\n",
    "\n",
    "<br>\n",
    "\n",
    "### 2.3.3. Problema da humidade nas cidades\n",
    "\n",
    "&emsp; `Porto`:\n",
    "\n",
    "&emsp; &emsp; A cidade do Porto tem valores bastante altos na percentagem de húmidade do ar e estes valores podem ser um problema por várias razões. O desenvolvimento de mofo dentro dos edifícos que pode dar asos à criação de agentes patogénicos e/ou ao enfraquecimento da estrutura, a condensação do vapor em componente eletrónicos potenciando a sua degradação prematura ou a incapacidade do ser humano se arrefecer são problemas criados por valores altos de humidade.\n",
    "\n",
    "&emsp; &emsp; A humidade é a quantidade de vapor de água no ar, logo quanto maior a humidade, menos \"água\" o ar consegue reter. O corpo humano arrefece através da transpiração do corpo, e se uma pessoa suar num ambiente húmido, o ar tem menos capacidade de absorver o suor, e consequentemente menos capacidade tem a pessoa de se arrefecer. Este fenómeno é agradável nas temperaturas mais inferiores pois ajuda o corpo a reter calor, contudo, em temperaturas mais quentes torna o ar insuportável ao ser humano mesmo na sombra ou no interior de um edifício. Uma solução para resolver este problema, e ao mesmo tempo os outros dois já referidos, é dotar as infraestruturas da capacidade de se tornarem fechados a trocas de ar mediante a humidade detetada através de sensores para que através de sistemas eletrónicos de controlo de temperatura e humidade no ar possam manter o ar nos edifícios em valores agradáveis, seja em ambientes de trabalho, desportivos ou habitação pessoal.\n",
    "\n",
    "<br>\n",
    "\n",
    "&emsp; `Lisboa`:\n",
    "\n",
    "&emsp; &emsp; A cidade de Lisboa tem valores tendencialmente inferiores aos do Porto, mas ainda assim superiores ao que o ser humano considera agradável. Desta forma, Lisboa é uma cidade indicada para receber o mesmo tratamento que o Porto na construção de edifícios capazes de selar as trocas entre o ar exterior e interior.\n",
    "\n",
    "<br>\n",
    "\n",
    "&emsp; `Faro`:\n",
    "\n",
    "&emsp; &emsp; A cidade de Faro tem valores medianos com maior tendência para baixa humidade no ar e muito próximos do que o ser humano considera agradável (50%), contudo, é possível detetar alguns picos a 90% de humidade do ar. É aqui que se torna ainda mais expressiva a necessidade de a infraestrutura ter a capacidade de auto regular conforme a necessidade de forma a não ter de usar a tempo inteiro equipamentos eletrónicos reguladores e assim desperdiçar energia valiosa à humanidade, mas aproveitando o ar exterior para regular o ar interior quando assim for possível. No entanto, representando uma pequena percentagem do tempo, estes valores podem não ser justificativos do investimento necessário para preparar a infraestrutura para esta capacidade.\n",
    "\n",
    "### 2.3.4 Pressão atmosférica\n",
    "\n",
    "&emsp; &emsp; A pressão atmosférica refere-se ao peso do ar. Em pressões atmosféricas altas, o peso do ar é maior e afunda tornando o ambiente mais estável e na situação reversa, o peso do ar é menor e sobe tornando o ambiente mais instável e propenso a precipitação e em certas regiões é possível haver furacões. As três cidades analisadas não são propensas a furacões ou a eventos climatéricos de alta intensidade contudo é digno de notar alguns pontos.\n",
    "\n",
    "&emsp; `Lisboa`:\n",
    "\n",
    "&emsp; &emsp; Na cidade de Lisboa é possível visualizar uma maior variação dos valores da pressão atmosférica. Estas variações podem causar ao ser humano alguns problemas ao nível da saúde. A pressão do oxigénio no ar que respiramos é suscetível a essas mudanças da pressão atmosférica e esta alteração tem um impacto na irrigação do sangue ao cérebro. Para aumentar a chegada de oxigénio ao cérebro quando a pressão diminui os vasos sanguíneos dilatam, o que pode causar dor de cabeça ou enxaqueca. A solução para evitar estes problemas é descansar bem, estar bem hidratado, diminuir o stress e o consumo de álcool. Para pessoas mais propensas a estes problemas, ter um bom sistema de previsão de pressão atmosférica que notifique a pessoa para tomar um medicamento para a dor de cabeça quando detetar que um dado dia vai potenciar aquele problema.\n",
    "\n",
    "<br>\n",
    "\n",
    "&emsp; `Porto`:\n",
    "\n",
    "&emsp; &emsp; Na cidade do Porto as flutuações são menores que em Lisboa mas ainda relevantes para implementar os mesmos mecanismos de previsão para alertar os cidadãos.\n",
    "\n",
    "<br>\n",
    "\n",
    "&emsp; `Faro`:\n",
    "\n",
    "&emsp; &emsp; Na cidade de Faro o problema torna-se menor devido às inferiores flutuações de valores, o que torna a cidade provavelmente não recomendada para o investimento nestes mecanimos de previsão e aviso."
   ]
  },
  {
   "cell_type": "markdown",
   "metadata": {},
   "source": [
    "***"
   ]
  },
  {
   "cell_type": "markdown",
   "metadata": {},
   "source": [
    "## **3. Air Pollution**"
   ]
  },
  {
   "cell_type": "markdown",
   "metadata": {},
   "source": [
    "### **3.1. Description**"
   ]
  },
  {
   "cell_type": "markdown",
   "metadata": {},
   "source": [
    "&emsp; &emsp; `aqi -` Índice de qualidade do ar.\n",
    "\n",
    "&emsp; &emsp; `co -` A concentração de CO (Monóxido de Carbono), μg/m3.\n",
    "\n",
    "&emsp; &emsp; `no -` A concentração de NO (Monóxido de Nitrogénio), μg/m3.\n",
    "\n",
    "&emsp; &emsp; `no2 -` A concentração de NO2 (Dióxido de Nitrogénio), μg/m3.\n",
    "\n",
    "&emsp; &emsp; `o3 -` A concentração de O3 (Ozono), μg/m3.\n",
    "\n",
    "&emsp; &emsp; `so2 -` A concentração de SO2 (Dióxido de Enxofre), μg/m3.\n",
    "\n",
    "&emsp; &emsp; `pm2_5 -` A concentração de PM2.5 (Partículas finas), μg/m3.\n",
    "\n",
    "&emsp; &emsp; `pm10 -` A concentração de PM10 (Partículas grossas), μg/m3.\n",
    "\n",
    "&emsp; &emsp; `nh3 -` A concentração de NH3 (Amônia), μg/m3."
   ]
  },
  {
   "cell_type": "markdown",
   "metadata": {},
   "source": [
    "### **3.2. Exploration**"
   ]
  },
  {
   "cell_type": "code",
   "execution_count": 121,
   "metadata": {},
   "outputs": [
    {
     "data": {
      "text/plain": [
       "<AxesSubplot:xlabel='city', ylabel='aqi'>"
      ]
     },
     "execution_count": 121,
     "metadata": {},
     "output_type": "execute_result"
    },
    {
     "data": {
      "image/png": "[encoded data removed]",
      "text/plain": [
       "<Figure size 864x432 with 1 Axes>"
      ]
     },
     "metadata": {
      "needs_background": "light"
     },
     "output_type": "display_data"
    }
   ],
   "source": [
    "sns.boxplot(x = dataset.city,\n",
    "            y = dataset['aqi'])"
   ]
  },
  {
   "cell_type": "code",
   "execution_count": 122,
   "metadata": {},
   "outputs": [
    {
     "data": {
      "text/plain": [
       "<AxesSubplot:xlabel='city', ylabel='co'>"
      ]
     },
     "execution_count": 122,
     "metadata": {},
     "output_type": "execute_result"
    },
    {
     "data": {
      "image/png": "[encoded data removed]",
      "text/plain": [
       "<Figure size 864x432 with 1 Axes>"
      ]
     },
     "metadata": {
      "needs_background": "light"
     },
     "output_type": "display_data"
    }
   ],
   "source": [
    "sns.boxplot(x = dataset.city,\n",
    "            y = dataset['co'])"
   ]
  },
  {
   "cell_type": "code",
   "execution_count": 123,
   "metadata": {},
   "outputs": [
    {
     "data": {
      "text/plain": [
       "<AxesSubplot:xlabel='city', ylabel='no'>"
      ]
     },
     "execution_count": 123,
     "metadata": {},
     "output_type": "execute_result"
    },
    {
     "data": {
      "image/png": "[encoded data removed]",
      "text/plain": [
       "<Figure size 864x432 with 1 Axes>"
      ]
     },
     "metadata": {
      "needs_background": "light"
     },
     "output_type": "display_data"
    }
   ],
   "source": [
    "sns.boxplot(x = dataset.city,\n",
    "            y = dataset['no'])"
   ]
  },
  {
   "cell_type": "code",
   "execution_count": 124,
   "metadata": {},
   "outputs": [
    {
     "data": {
      "text/plain": [
       "<AxesSubplot:xlabel='city', ylabel='no2'>"
      ]
     },
     "execution_count": 124,
     "metadata": {},
     "output_type": "execute_result"
    },
    {
     "data": {
      "image/png": "[encoded data removed]",
      "text/plain": [
       "<Figure size 864x432 with 1 Axes>"
      ]
     },
     "metadata": {
      "needs_background": "light"
     },
     "output_type": "display_data"
    }
   ],
   "source": [
    "sns.boxplot(x=dataset.city,\n",
    "            y=dataset['no2'])"
   ]
  },
  {
   "cell_type": "code",
   "execution_count": 125,
   "metadata": {},
   "outputs": [
    {
     "data": {
      "text/plain": [
       "<AxesSubplot:xlabel='city', ylabel='o3'>"
      ]
     },
     "execution_count": 125,
     "metadata": {},
     "output_type": "execute_result"
    },
    {
     "data": {
      "image/png": "[encoded data removed]",
      "text/plain": [
       "<Figure size 864x432 with 1 Axes>"
      ]
     },
     "metadata": {
      "needs_background": "light"
     },
     "output_type": "display_data"
    }
   ],
   "source": [
    "sns.boxplot(x = dataset.city,\n",
    "            y = dataset['o3'])"
   ]
  },
  {
   "cell_type": "code",
   "execution_count": 126,
   "metadata": {},
   "outputs": [
    {
     "data": {
      "text/plain": [
       "<AxesSubplot:xlabel='city', ylabel='so2'>"
      ]
     },
     "execution_count": 126,
     "metadata": {},
     "output_type": "execute_result"
    },
    {
     "data": {
      "image/png": "[encoded data removed]",
      "text/plain": [
       "<Figure size 864x432 with 1 Axes>"
      ]
     },
     "metadata": {
      "needs_background": "light"
     },
     "output_type": "display_data"
    }
   ],
   "source": [
    "sns.boxplot(x = dataset.city,\n",
    "            y = dataset['so2'])"
   ]
  },
  {
   "cell_type": "code",
   "execution_count": 127,
   "metadata": {},
   "outputs": [
    {
     "data": {
      "text/plain": [
       "<AxesSubplot:xlabel='city', ylabel='pm2_5'>"
      ]
     },
     "execution_count": 127,
     "metadata": {},
     "output_type": "execute_result"
    },
    {
     "data": {
      "image/png": "[encoded data removed]",
      "text/plain": [
       "<Figure size 864x432 with 1 Axes>"
      ]
     },
     "metadata": {
      "needs_background": "light"
     },
     "output_type": "display_data"
    }
   ],
   "source": [
    "sns.boxplot(x = dataset.city,\n",
    "            y = dataset['pm2_5'])"
   ]
  },
  {
   "cell_type": "code",
   "execution_count": 128,
   "metadata": {},
   "outputs": [
    {
     "data": {
      "text/plain": [
       "<AxesSubplot:xlabel='city', ylabel='pm10'>"
      ]
     },
     "execution_count": 128,
     "metadata": {},
     "output_type": "execute_result"
    },
    {
     "data": {
      "image/png": "[encoded data removed]",
      "text/plain": [
       "<Figure size 864x432 with 1 Axes>"
      ]
     },
     "metadata": {
      "needs_background": "light"
     },
     "output_type": "display_data"
    }
   ],
   "source": [
    "sns.boxplot(x = dataset.city,\n",
    "            y = dataset['pm10'])"
   ]
  },
  {
   "cell_type": "code",
   "execution_count": 129,
   "metadata": {},
   "outputs": [
    {
     "data": {
      "text/plain": [
       "<AxesSubplot:xlabel='city', ylabel='nh3'>"
      ]
     },
     "execution_count": 129,
     "metadata": {},
     "output_type": "execute_result"
    },
    {
     "data": {
      "image/png": "[encoded data removed]",
      "text/plain": [
       "<Figure size 864x432 with 1 Axes>"
      ]
     },
     "metadata": {
      "needs_background": "light"
     },
     "output_type": "display_data"
    }
   ],
   "source": [
    "sns.boxplot(x = dataset.city,\n",
    "            y = dataset['nh3'])"
   ]
  },
  {
   "cell_type": "markdown",
   "metadata": {},
   "source": [
    "### **3.3. Problems and Solutions**"
   ]
  },
  {
   "cell_type": "markdown",
   "metadata": {},
   "source": [
    "##### **Carbon Monoxide (CO)**"
   ]
  },
  {
   "cell_type": "markdown",
   "metadata": {},
   "source": [
    "&emsp; &emsp; O Monóxido de Carbono é originado pela combustão incompleta de compostos de carbono. As maiores fontes deste gás tóxico para a atmosfera são o tráfego e queimadas em indústrias.\n",
    "\n",
    "&emsp; `Lisboa`: No caso de Lisboa, a mediana está próxima do valor de 220, estando o 1º quartil acima de 200 e o 3º abaixo de 240.\n",
    "\n",
    "&emsp; `Porto`: No que toca à cidade do Porto, o 1º e 3º quartis são muito semelhantes aos valores presentes na cidade de Lisboa, no entanto, a mediana é superior, apontando para um valor próximo de 225.\n",
    "\n",
    "&emsp; `Faro`: Em relação a Faro, apresenta uma mediana inferior às restantes cidades, possuindo um valor de 210. Em relação ao 1º e 3º quartis, os seus valores são, aproximadamente, 190 e 220, respetivamente.\n",
    "\n",
    "&emsp; &emsp; Com a visualização e análise dos dados pode-se aferir que as três cidades apresentam uma concentração considerável para este gás, o que pode trazer várias complicações.\n",
    "\n",
    "&emsp; &emsp; Os problemas que este gás traz são alusivos à qualidade do ar respirável para os seres vivos, o que, sendo um gás extremamente tóxico, pode causar debilidades e até a morte, em caso de uma exposição prolongada. Por outro lado, em termos ambientais, a emissão deste gás para a atmosfera afeta a quantidade de gases do efeito de estufa, promovendo o aquecimento global e mudanças climáticas.\n",
    "\n",
    "&emsp; &emsp; As soluções passam pela menor utilização de automóveis que consumam combustíveis fósseis; optar por transportes públicos em detrimento de transportes particulares; apostar em energias limpas; reduzir as emissões de monóxido de carbono nas grandes indústrias."
   ]
  },
  {
   "cell_type": "markdown",
   "metadata": {},
   "source": [
    "##### **Nitric Oxide (NO)**"
   ]
  },
  {
   "cell_type": "markdown",
   "metadata": {},
   "source": [
    "&emsp; &emsp; O Monóxido de Nitrogénio é formado na combustão a altas temperaturas de combustível, o que se verifica nos motores dos automóveis e na queima de combustíveis fósseis.\n",
    "\n",
    "&emsp; &emsp; A concentração deste gás, nas três cidades, não é, de todo, alarmante, isto porque, apresenta uma concentração pouco significativa do mesmo. Apesar de possuir alguns valores mais elevados nas cidades de Porto e Faro, as medianas estão perto do valor nulo e, por isso, não constitui, neste momento, um problema.\n"
   ]
  },
  {
   "cell_type": "markdown",
   "metadata": {},
   "source": [
    "##### **Nitrogen Dioxide (NO2)**"
   ]
  },
  {
   "cell_type": "markdown",
   "metadata": {},
   "source": [
    "&emsp; &emsp; O Dióxido de Nitrogénio, tal como o Óxido Nítrico, é formado através da combustão a altas temperaturas de carvão, óleo, gás ou diesel.\n",
    "\n",
    "&emsp; `Lisboa`: A mediana aponta para um valor de 1.5, sendo que o 1º quartil é ligeiramente superior a 0.5 e o 3º quartil ligeiramente superior a 2.5.\n",
    "\n",
    "&emsp; `Porto`: Na cidade do Porto, a mediana está um pouco acima de 1.5, o 1º quartil apresenta um valor superior a 0.5 e o 3º quartil aponta para um valor superior a 2.5.\n",
    "\n",
    "&emsp; `Faro`: A mediana aponta para um valor aproximado de 0.7, o 1º quartil inferior a 0.5 e o 3º quartil ligeiramnete superior a 2.5.\n",
    "\n",
    "&emsp; &emsp; Analisando e comparando estes dados, a cidade do Porto é a que aprensenta mais concentração de Dióxido de Nitrogénio de entre as três cidades, estando em 2º lugar a cidade de Lisboa e, por último, a cidade de Faro, que apresenta a menor concentração do gás. Contudo, a concentração de Dióxido de Nitrogénio está dentro do nível considerado \"bom\" (abaixo de 50) e, por isso, não existem problemas associados ao mesmo."
   ]
  },
  {
   "cell_type": "markdown",
   "metadata": {},
   "source": [
    "##### **Ozone (O3)**"
   ]
  },
  {
   "cell_type": "markdown",
   "metadata": {},
   "source": [
    "&emsp; &emsp; O Ozono apesar de desempenhar um papel muito importante para o ser humano, a nível da estratosfera, protegendo o ser humano das radiações solares, quando está ao nível da troposfera pode causar vários problemas, caso possua grande concentração deste tipo de gás.\n",
    "\n",
    "&emsp; `Lisboa`: A mediana está próxima de 100, estando o 1º quartil perto do valor de 60 e o 3º acima de 110.\n",
    "\n",
    "&emsp; `Porto`: Em relação à cidade do Porto, a mediana e os quartis apresentam valores semelhantes.\n",
    "\n",
    "&emsp; `Faro`: No que toca à cidade de Faro, a mediana e o 3º quartil são semelhantes às outras cidades, no entanto, o 1º quartil está próximo de 70, apesar de existirem mais valores abaixo do 3º quartil.\n",
    "\n",
    "&emsp; &emsp; Comparando estes valores com os índices de qualidade do ar, no caso do Ozono, uma concentração entre 60 e 120 representa um nível razoável, representado pelo nível 2 do índice de qualidade do ar. Assim, não constitui um problema, nem para o ser humano nem para o meio ambiente e tudo o que o envolve."
   ]
  },
  {
   "cell_type": "markdown",
   "metadata": {},
   "source": [
    "##### **Sulphur dioxide (SO2)**"
   ]
  },
  {
   "cell_type": "markdown",
   "metadata": {},
   "source": [
    "&emsp; &emsp; O Dióxido de enxofre é mais um dos gases libertados pela combustão de combustíveis fósseis, porém, é libertado naturalmente devido à atividade vulcânica.\n",
    "\n",
    "&emsp; `Lisboa`: A mediana é aproximadamente 1.2, o 1º quartil é ligeiramente inferior ao valor de 1.0 e o 3º quartil apresenta um valor de aproximadamente 1.7.\n",
    "\n",
    "&emsp; `Porto`: A mediana nesta cidade é ligeiramente superior a 1.5, o 1º quartil é superior a 1.0 e o 4º superior a 2.0. No entanto, existem vários valores registados acima do 3º quartil, ou seja, acima de 2.0.\n",
    "\n",
    "&emsp; `Faro`: A cidade de Faro é a regista menores valores, com uma mediana próxima de 1.0, o 1º quartil pouco superior a 0 e o 4º quartil superior a 1.5. Nesta cidade, registam-se também alguns valores acima do 3º quartil.\n",
    "\n",
    "&emsp; &emsp; Segundo os valores dos índices de qualidade do ar, os valores registados nas três cidades representam um índice de 1, ou seja, a melhor qualidade do ar, isto porque, os valores registados para Dióxido de enxofre são baixos nas três cidades estudadas."
   ]
  },
  {
   "cell_type": "markdown",
   "metadata": {},
   "source": [
    "##### **PM 2.5**"
   ]
  },
  {
   "cell_type": "markdown",
   "metadata": {},
   "source": [
    "&emsp; &emsp; Consiste em partículas atmosféricas com um diâmetro inferior a 2.5 micrometros e, devido à sua dimensão microscópica, são perigosas para o ser humano, isto porque, ficam mais tempo no ar e podem entrar diretamente para a circulação sanguínea, podendo provocar  problemas cardiacos e respiratórios.\n",
    "\n",
    "&emsp; `Lisboa`: Nesta cidade a mediana é ligeiramente superior a 2, o 1º quartil é inferior a 2 e o 3º quartil é ligeiramente inferior a 4. Contudo, existem alguns valores registados acima do 6.\n",
    "\n",
    "&emsp; `Porto`: Na cidade do Porto, a mediana aproxima-se de 2, o 1º quartil é inferior a 2 e o 3º quartil é aproximadamente 3. Também nesta cidade registam-se vários valores acima do 3º quartil.\n",
    "\n",
    "&emsp; `Faro`: A cidade de Faro, regista valores semelhantes à cidade de Lisboa, no entanto, o 3º quartil representa um valor próximo de 6 e um máximo acima de 10.\n",
    "\n",
    "&emsp; &emsp; Como as concentrações registadas nas três cidades são pouco significativas, segundo o índice de qualidade de ar europeu, em que uma concentração entre 0 e 15 corresponde ao índice de valor 1, em que a qualidade do ar é muito boa, não existem problemas a identificar."
   ]
  },
  {
   "cell_type": "markdown",
   "metadata": {},
   "source": [
    "##### **PM 10**"
   ]
  },
  {
   "cell_type": "markdown",
   "metadata": {},
   "source": [
    "&emsp; &emsp; Consiste em partículas inaláveis, com um diâmetro inferior a 10 micrometros. Penetrando no sistema respiratório podem provocar doenças respiratórias e, caso entre na corrente sanguínea, doenças cardíacas.\n",
    "\n",
    "&emsp; `Lisboa`: A cidade de Lisboa apresenta uma mediana de 8, o 1º quartil é ligeiramente superior a 6 e o 3º quartil é ligeiramente superior a 10.\n",
    "\n",
    "&emsp; `Porto`: Na cidade do Porto, a mediana é superior a 4, o 1º quartil é inferior a 4 e o 3º quartil é aproximadamente 6. Contudo, registam-se vários valores acima do máximo, sendo estes, outliers.\n",
    "\n",
    "&emsp; `Faro`: A cidade de Faro, regista uma mediana de aproximadamente 6, o 1º quartil aponta para 4 e o 3º para aproximadamente 10.\n",
    "\n",
    "&emsp; &emsp; Como as concentrações registadas nas três cidades são pouco significativas, tendo em conta o índice de qualidade de ar europeu, em que uma concentração entre 0 e 25 corresponde ao índice de valor 1, em que a qualidade do ar é muito boa, não existem possíveis problemas para os níveis de concentração de PM10 nestas cidades."
   ]
  },
  {
   "cell_type": "markdown",
   "metadata": {},
   "source": [
    "##### **Ammonia (NH3)**"
   ]
  },
  {
   "cell_type": "markdown",
   "metadata": {},
   "source": [
    "&emsp; &emsp; É um gás que contribui para a poluição do ar, sendo a sua principal fonte natural a agricultura, contudo, é também emitido através da compostagem de materiais orgânicos, combustão, indústrias, esgotos e aterros sanitários.\n",
    "\n",
    "&emsp; `Lisboa`: A mediana, assim como o 1º e 3º quartis, são inferiores a 1, estando o máximo abaixo de 1.5, existindo outliers acima deste máximo.\n",
    "\n",
    "&emsp; `Porto`: A mediana aproxima-se de 0.75, o 1º quartil de 0.50 e o 3º de 1. O mínimo é cerca de 0.25 e o máximo 1.75. Neste caso, existem também outliers, com valores acima do máximo.\n",
    "\n",
    "&emsp; `Faro`: Tanto a mediana, como o 1º e 3º quartis estão próximos de 1. O mínimo é aproximadamente 0.50 e o máximo 1.50. Existem também outliers, com valores superiores ao máximo.\n",
    "\n",
    "&emsp; &emsp; Após esta análise é possível concluir que as concentrações de NH3 não são consideráveis, isto porque, apresentam valores baixos relativamente a outras cidades mais poluidoras. Assim, não constitui qualquer tipo de problema."
   ]
  },
  {
   "cell_type": "markdown",
   "metadata": {},
   "source": [
    "***"
   ]
  },
  {
   "cell_type": "markdown",
   "metadata": {},
   "source": [
    "## **Convert back to csv**"
   ]
  },
  {
   "cell_type": "code",
   "execution_count": 130,
   "metadata": {},
   "outputs": [],
   "source": [
    "dataset.to_csv('./dataset.csv', index = False)"
   ]
  },
  {
   "cell_type": "markdown",
   "metadata": {},
   "source": [
    "***\n",
    "# <center>**Machine Learning**<center>\n",
    "***"
   ]
  },
  {
   "cell_type": "code",
   "execution_count": 131,
   "metadata": {},
   "outputs": [],
   "source": [
    "from sklearn.experimental import enable_halving_search_cv\n",
    "from sklearn.model_selection import train_test_split, HalvingGridSearchCV\n",
    "import numpy as np\n",
    "from sklearn.ensemble import RandomForestRegressor\n",
    "from sklearn.metrics import *"
   ]
  },
  {
   "cell_type": "code",
   "execution_count": 132,
   "metadata": {},
   "outputs": [
    {
     "data": {
      "text/html": [
       "<div>\n",
       "<style scoped>\n",
       "    .dataframe tbody tr th:only-of-type {\n",
       "        vertical-align: middle;\n",
       "    }\n",
       "\n",
       "    .dataframe tbody tr th {\n",
       "        vertical-align: top;\n",
       "    }\n",
       "\n",
       "    .dataframe thead th {\n",
       "        text-align: right;\n",
       "    }\n",
       "</style>\n",
       "<table border=\"1\" class=\"dataframe\">\n",
       "  <thead>\n",
       "    <tr style=\"text-align: right;\">\n",
       "      <th></th>\n",
       "      <th>city</th>\n",
       "      <th>lat</th>\n",
       "      <th>lon</th>\n",
       "      <th>currentSpeed</th>\n",
       "      <th>freeFlowSpeed</th>\n",
       "      <th>currentTravelTime</th>\n",
       "      <th>freeFlowTravelTime</th>\n",
       "      <th>main</th>\n",
       "      <th>description</th>\n",
       "      <th>temp</th>\n",
       "      <th>...</th>\n",
       "      <th>pm10</th>\n",
       "      <th>nh3</th>\n",
       "      <th>averageSpeedDifference</th>\n",
       "      <th>averageTimeDifference</th>\n",
       "      <th>day</th>\n",
       "      <th>year</th>\n",
       "      <th>month</th>\n",
       "      <th>week</th>\n",
       "      <th>hour</th>\n",
       "      <th>minute</th>\n",
       "    </tr>\n",
       "  </thead>\n",
       "  <tbody>\n",
       "    <tr>\n",
       "      <th>0</th>\n",
       "      <td>Lisboa</td>\n",
       "      <td>38.7071</td>\n",
       "      <td>-9.13549</td>\n",
       "      <td>15</td>\n",
       "      <td>29</td>\n",
       "      <td>36</td>\n",
       "      <td>18</td>\n",
       "      <td>Clouds</td>\n",
       "      <td>few clouds</td>\n",
       "      <td>20.47</td>\n",
       "      <td>...</td>\n",
       "      <td>7.15</td>\n",
       "      <td>1.5</td>\n",
       "      <td>14</td>\n",
       "      <td>18</td>\n",
       "      <td>6</td>\n",
       "      <td>2022</td>\n",
       "      <td>4</td>\n",
       "      <td>15</td>\n",
       "      <td>13</td>\n",
       "      <td>34</td>\n",
       "    </tr>\n",
       "    <tr>\n",
       "      <th>1</th>\n",
       "      <td>Porto</td>\n",
       "      <td>41.14961</td>\n",
       "      <td>-8.61099</td>\n",
       "      <td>15</td>\n",
       "      <td>15</td>\n",
       "      <td>31</td>\n",
       "      <td>31</td>\n",
       "      <td>Clouds</td>\n",
       "      <td>few clouds</td>\n",
       "      <td>19.47</td>\n",
       "      <td>...</td>\n",
       "      <td>12.97</td>\n",
       "      <td>1.31</td>\n",
       "      <td>0</td>\n",
       "      <td>0</td>\n",
       "      <td>6</td>\n",
       "      <td>2022</td>\n",
       "      <td>4</td>\n",
       "      <td>15</td>\n",
       "      <td>13</td>\n",
       "      <td>34</td>\n",
       "    </tr>\n",
       "    <tr>\n",
       "      <th>2</th>\n",
       "      <td>Faro</td>\n",
       "      <td>37.019356</td>\n",
       "      <td>-7.93044</td>\n",
       "      <td>28</td>\n",
       "      <td>28</td>\n",
       "      <td>148</td>\n",
       "      <td>148</td>\n",
       "      <td>Clear</td>\n",
       "      <td>clear sky</td>\n",
       "      <td>22.9</td>\n",
       "      <td>...</td>\n",
       "      <td>12.71</td>\n",
       "      <td>1.11</td>\n",
       "      <td>0</td>\n",
       "      <td>0</td>\n",
       "      <td>6</td>\n",
       "      <td>2022</td>\n",
       "      <td>4</td>\n",
       "      <td>15</td>\n",
       "      <td>13</td>\n",
       "      <td>34</td>\n",
       "    </tr>\n",
       "    <tr>\n",
       "      <th>3</th>\n",
       "      <td>Lisboa</td>\n",
       "      <td>38.7071</td>\n",
       "      <td>-9.13549</td>\n",
       "      <td>30</td>\n",
       "      <td>30</td>\n",
       "      <td>18</td>\n",
       "      <td>18</td>\n",
       "      <td>Clouds</td>\n",
       "      <td>few clouds</td>\n",
       "      <td>20.45</td>\n",
       "      <td>...</td>\n",
       "      <td>7.15</td>\n",
       "      <td>1.5</td>\n",
       "      <td>0</td>\n",
       "      <td>0</td>\n",
       "      <td>6</td>\n",
       "      <td>2022</td>\n",
       "      <td>4</td>\n",
       "      <td>15</td>\n",
       "      <td>13</td>\n",
       "      <td>44</td>\n",
       "    </tr>\n",
       "    <tr>\n",
       "      <th>4</th>\n",
       "      <td>Porto</td>\n",
       "      <td>41.14961</td>\n",
       "      <td>-8.61099</td>\n",
       "      <td>15</td>\n",
       "      <td>15</td>\n",
       "      <td>31</td>\n",
       "      <td>31</td>\n",
       "      <td>Clear</td>\n",
       "      <td>clear sky</td>\n",
       "      <td>19.47</td>\n",
       "      <td>...</td>\n",
       "      <td>12.97</td>\n",
       "      <td>1.31</td>\n",
       "      <td>0</td>\n",
       "      <td>0</td>\n",
       "      <td>6</td>\n",
       "      <td>2022</td>\n",
       "      <td>4</td>\n",
       "      <td>15</td>\n",
       "      <td>13</td>\n",
       "      <td>44</td>\n",
       "    </tr>\n",
       "    <tr>\n",
       "      <th>...</th>\n",
       "      <td>...</td>\n",
       "      <td>...</td>\n",
       "      <td>...</td>\n",
       "      <td>...</td>\n",
       "      <td>...</td>\n",
       "      <td>...</td>\n",
       "      <td>...</td>\n",
       "      <td>...</td>\n",
       "      <td>...</td>\n",
       "      <td>...</td>\n",
       "      <td>...</td>\n",
       "      <td>...</td>\n",
       "      <td>...</td>\n",
       "      <td>...</td>\n",
       "      <td>...</td>\n",
       "      <td>...</td>\n",
       "      <td>...</td>\n",
       "      <td>...</td>\n",
       "      <td>...</td>\n",
       "      <td>...</td>\n",
       "      <td>...</td>\n",
       "    </tr>\n",
       "    <tr>\n",
       "      <th>6860</th>\n",
       "      <td>Porto</td>\n",
       "      <td>41.14961</td>\n",
       "      <td>-8.61099</td>\n",
       "      <td>9</td>\n",
       "      <td>15</td>\n",
       "      <td>51</td>\n",
       "      <td>31</td>\n",
       "      <td>Clear</td>\n",
       "      <td>clear sky</td>\n",
       "      <td>21.61</td>\n",
       "      <td>...</td>\n",
       "      <td>8.81</td>\n",
       "      <td>1.28</td>\n",
       "      <td>6</td>\n",
       "      <td>20</td>\n",
       "      <td>5</td>\n",
       "      <td>2022</td>\n",
       "      <td>3</td>\n",
       "      <td>9</td>\n",
       "      <td>14</td>\n",
       "      <td>39</td>\n",
       "    </tr>\n",
       "    <tr>\n",
       "      <th>6861</th>\n",
       "      <td>Faro</td>\n",
       "      <td>37.019356</td>\n",
       "      <td>-7.93044</td>\n",
       "      <td>28</td>\n",
       "      <td>28</td>\n",
       "      <td>148</td>\n",
       "      <td>148</td>\n",
       "      <td>Clouds</td>\n",
       "      <td>broken clouds</td>\n",
       "      <td>17.88</td>\n",
       "      <td>...</td>\n",
       "      <td>1.48</td>\n",
       "      <td>0.63</td>\n",
       "      <td>0</td>\n",
       "      <td>0</td>\n",
       "      <td>5</td>\n",
       "      <td>2022</td>\n",
       "      <td>3</td>\n",
       "      <td>9</td>\n",
       "      <td>14</td>\n",
       "      <td>39</td>\n",
       "    </tr>\n",
       "    <tr>\n",
       "      <th>6862</th>\n",
       "      <td>Lisboa</td>\n",
       "      <td>38.7071</td>\n",
       "      <td>-9.13549</td>\n",
       "      <td>11</td>\n",
       "      <td>30</td>\n",
       "      <td>49</td>\n",
       "      <td>18</td>\n",
       "      <td>Clouds</td>\n",
       "      <td>broken clouds</td>\n",
       "      <td>21.13</td>\n",
       "      <td>...</td>\n",
       "      <td>6.23</td>\n",
       "      <td>1.55</td>\n",
       "      <td>19</td>\n",
       "      <td>31</td>\n",
       "      <td>5</td>\n",
       "      <td>2022</td>\n",
       "      <td>3</td>\n",
       "      <td>9</td>\n",
       "      <td>14</td>\n",
       "      <td>49</td>\n",
       "    </tr>\n",
       "    <tr>\n",
       "      <th>6863</th>\n",
       "      <td>Porto</td>\n",
       "      <td>41.14961</td>\n",
       "      <td>-8.61099</td>\n",
       "      <td>4</td>\n",
       "      <td>16</td>\n",
       "      <td>116</td>\n",
       "      <td>29</td>\n",
       "      <td>Clear</td>\n",
       "      <td>clear sky</td>\n",
       "      <td>21.35</td>\n",
       "      <td>...</td>\n",
       "      <td>8.81</td>\n",
       "      <td>1.28</td>\n",
       "      <td>12</td>\n",
       "      <td>87</td>\n",
       "      <td>5</td>\n",
       "      <td>2022</td>\n",
       "      <td>3</td>\n",
       "      <td>9</td>\n",
       "      <td>14</td>\n",
       "      <td>49</td>\n",
       "    </tr>\n",
       "    <tr>\n",
       "      <th>6864</th>\n",
       "      <td>Faro</td>\n",
       "      <td>37.019356</td>\n",
       "      <td>-7.93044</td>\n",
       "      <td>28</td>\n",
       "      <td>28</td>\n",
       "      <td>148</td>\n",
       "      <td>148</td>\n",
       "      <td>Clouds</td>\n",
       "      <td>broken clouds</td>\n",
       "      <td>17.88</td>\n",
       "      <td>...</td>\n",
       "      <td>1.48</td>\n",
       "      <td>0.63</td>\n",
       "      <td>0</td>\n",
       "      <td>0</td>\n",
       "      <td>5</td>\n",
       "      <td>2022</td>\n",
       "      <td>3</td>\n",
       "      <td>9</td>\n",
       "      <td>14</td>\n",
       "      <td>49</td>\n",
       "    </tr>\n",
       "  </tbody>\n",
       "</table>\n",
       "<p>6865 rows × 37 columns</p>\n",
       "</div>"
      ],
      "text/plain": [
       "        city        lat      lon  currentSpeed  freeFlowSpeed  \\\n",
       "0     Lisboa    38.7071 -9.13549            15             29   \n",
       "1      Porto   41.14961 -8.61099            15             15   \n",
       "2       Faro  37.019356 -7.93044            28             28   \n",
       "3     Lisboa    38.7071 -9.13549            30             30   \n",
       "4      Porto   41.14961 -8.61099            15             15   \n",
       "...      ...        ...      ...           ...            ...   \n",
       "6860   Porto   41.14961 -8.61099             9             15   \n",
       "6861    Faro  37.019356 -7.93044            28             28   \n",
       "6862  Lisboa    38.7071 -9.13549            11             30   \n",
       "6863   Porto   41.14961 -8.61099             4             16   \n",
       "6864    Faro  37.019356 -7.93044            28             28   \n",
       "\n",
       "      currentTravelTime  freeFlowTravelTime    main    description   temp  \\\n",
       "0                    36                  18  Clouds     few clouds  20.47   \n",
       "1                    31                  31  Clouds     few clouds  19.47   \n",
       "2                   148                 148   Clear      clear sky   22.9   \n",
       "3                    18                  18  Clouds     few clouds  20.45   \n",
       "4                    31                  31   Clear      clear sky  19.47   \n",
       "...                 ...                 ...     ...            ...    ...   \n",
       "6860                 51                  31   Clear      clear sky  21.61   \n",
       "6861                148                 148  Clouds  broken clouds  17.88   \n",
       "6862                 49                  18  Clouds  broken clouds  21.13   \n",
       "6863                116                  29   Clear      clear sky  21.35   \n",
       "6864                148                 148  Clouds  broken clouds  17.88   \n",
       "\n",
       "      ...   pm10   nh3  averageSpeedDifference  averageTimeDifference  day  \\\n",
       "0     ...   7.15   1.5                      14                     18    6   \n",
       "1     ...  12.97  1.31                       0                      0    6   \n",
       "2     ...  12.71  1.11                       0                      0    6   \n",
       "3     ...   7.15   1.5                       0                      0    6   \n",
       "4     ...  12.97  1.31                       0                      0    6   \n",
       "...   ...    ...   ...                     ...                    ...  ...   \n",
       "6860  ...   8.81  1.28                       6                     20    5   \n",
       "6861  ...   1.48  0.63                       0                      0    5   \n",
       "6862  ...   6.23  1.55                      19                     31    5   \n",
       "6863  ...   8.81  1.28                      12                     87    5   \n",
       "6864  ...   1.48  0.63                       0                      0    5   \n",
       "\n",
       "      year  month  week  hour  minute  \n",
       "0     2022      4    15    13      34  \n",
       "1     2022      4    15    13      34  \n",
       "2     2022      4    15    13      34  \n",
       "3     2022      4    15    13      44  \n",
       "4     2022      4    15    13      44  \n",
       "...    ...    ...   ...   ...     ...  \n",
       "6860  2022      3     9    14      39  \n",
       "6861  2022      3     9    14      39  \n",
       "6862  2022      3     9    14      49  \n",
       "6863  2022      3     9    14      49  \n",
       "6864  2022      3     9    14      49  \n",
       "\n",
       "[6865 rows x 37 columns]"
      ]
     },
     "execution_count": 132,
     "metadata": {},
     "output_type": "execute_result"
    }
   ],
   "source": [
    "dataset"
   ]
  },
  {
   "cell_type": "markdown",
   "metadata": {},
   "source": [
    "### **Pré-Processamento dos dados**"
   ]
  },
  {
   "cell_type": "code",
   "execution_count": 133,
   "metadata": {},
   "outputs": [
    {
     "name": "stdout",
     "output_type": "stream",
     "text": [
      "[0 1 2 3 4 5]\n"
     ]
    }
   ],
   "source": [
    "def convert_main(val):\n",
    "    if val == 'Clouds':\n",
    "        return 0\n",
    "    elif val == 'Clear':\n",
    "        return 1\n",
    "    elif val == 'Rain':\n",
    "        return 2\n",
    "    elif val == 'Drizzle':\n",
    "        return 3\n",
    "    elif val == 'Fog':\n",
    "        return 4\n",
    "    elif val == 'Mist':\n",
    "        return 5\n",
    "    else:\n",
    "        return -1\n",
    "\n",
    "dataset['main'] = dataset['main'].apply(convert_main)\n",
    "print(dataset['main'].unique())"
   ]
  },
  {
   "cell_type": "code",
   "execution_count": 134,
   "metadata": {},
   "outputs": [
    {
     "name": "stdout",
     "output_type": "stream",
     "text": [
      "[1 0 2]\n"
     ]
    }
   ],
   "source": [
    "def convert_city(val):\n",
    "    if val == 'Porto':\n",
    "        return 0\n",
    "    elif val == 'Lisboa':\n",
    "        return 1\n",
    "    elif val == 'Faro':\n",
    "        return 2\n",
    "    else:\n",
    "        return -1\n",
    "\n",
    "dataset['city'] = dataset['city'].apply(convert_city)\n",
    "print(dataset['city'].unique())"
   ]
  },
  {
   "cell_type": "code",
   "execution_count": 135,
   "metadata": {},
   "outputs": [
    {
     "name": "stdout",
     "output_type": "stream",
     "text": [
      "[ 0  7  1  8  2  9  3 10  4 11  5 12  6]\n"
     ]
    }
   ],
   "source": [
    "def convert_description(val):\n",
    "    if val == 'few clouds':\n",
    "        return 0\n",
    "    elif val == 'scattered clouds':\n",
    "        return 1\n",
    "    elif val == 'light rain':\n",
    "        return 2\n",
    "    elif val == 'light intensity shower rain':\n",
    "        return 3\n",
    "    elif val == 'overcast clouds':\n",
    "        return 4\n",
    "    elif val == 'fog':\n",
    "        return 5\n",
    "    elif val == 'light intensity drizzle':\n",
    "        return 6\n",
    "    elif val == 'clear sky':\n",
    "        return 7\n",
    "    elif val == 'broken clouds':\n",
    "        return 8\n",
    "    elif val == 'light intensity drizzle rain':\n",
    "        return 9\n",
    "    elif val == 'moderate rain':\n",
    "        return 10\n",
    "    elif val == 'heavy intensity shower rain':\n",
    "        return 11\n",
    "    elif val == 'mist':\n",
    "        return 12\n",
    "    else:\n",
    "        return -1\n",
    "\n",
    "dataset['description'] = dataset['description'].apply(convert_description)\n",
    "print(dataset['description'].unique())"
   ]
  },
  {
   "cell_type": "markdown",
   "metadata": {},
   "source": [
    "### **Previsão da temperatura**"
   ]
  },
  {
   "cell_type": "code",
   "execution_count": 136,
   "metadata": {},
   "outputs": [],
   "source": [
    "y = dataset['temp'].to_frame()\n",
    "x = dataset.drop(['temp', 'lat', 'lon'], axis = 1)\n",
    "\n",
    "x_train, x_test, y_train, y_test = train_test_split(x, np.ravel(y), test_size = 0.2, random_state = 2021)"
   ]
  },
  {
   "cell_type": "code",
   "execution_count": 137,
   "metadata": {},
   "outputs": [
    {
     "name": "stdout",
     "output_type": "stream",
     "text": [
      "{'bootstrap': True, 'max_depth': 9, 'max_features': 4, 'n_estimators': 490, 'random_state': 2022}\n",
      "RandomForestRegressor(max_depth=9, max_features=4, n_estimators=490,\n",
      "                      random_state=2022)\n",
      "0.171281 mae\n"
     ]
    }
   ],
   "source": [
    "param_grid = {\n",
    "    'bootstrap': [True],\n",
    "    'max_depth': [9],\n",
    "    'max_features': [4],\n",
    "    'n_estimators': [490],\n",
    "    'random_state': [2022]\n",
    "}\n",
    "\n",
    "rf = RandomForestRegressor()\n",
    "\n",
    "grid = HalvingGridSearchCV(rf, param_grid, cv = 3, n_jobs = -1, factor = 2, refit = True, verbose = 0)\n",
    "\n",
    "grid.fit(x_train, y_train)\n",
    "\n",
    "print(grid.best_params_)\n",
    "print(grid.best_estimator_)\n",
    "\n",
    "\n",
    "predictions = grid.predict(x_test)\n",
    "\n",
    "print(\"%f mae\" %(mean_absolute_error(y_test, predictions)))"
   ]
  },
  {
   "cell_type": "markdown",
   "metadata": {},
   "source": [
    "### **Previsão da velocidade média dos automóveis**"
   ]
  },
  {
   "cell_type": "code",
   "execution_count": 138,
   "metadata": {},
   "outputs": [],
   "source": [
    "y = dataset['currentSpeed'].to_frame()\n",
    "x = dataset.drop(['currentSpeed', 'lat', 'lon'], axis = 1)\n",
    "\n",
    "x_train, x_test, y_train, y_test = train_test_split(x, np.ravel(y), test_size = 0.2, random_state = 2021)"
   ]
  },
  {
   "cell_type": "code",
   "execution_count": 139,
   "metadata": {},
   "outputs": [
    {
     "name": "stdout",
     "output_type": "stream",
     "text": [
      "{'bootstrap': True, 'max_depth': 9, 'max_features': 4, 'n_estimators': 180, 'random_state': 2022}\n",
      "RandomForestRegressor(max_depth=9, max_features=4, n_estimators=180,\n",
      "                      random_state=2022)\n",
      "0.265446 mae\n"
     ]
    }
   ],
   "source": [
    "param_grid = {\n",
    "    'bootstrap': [True],\n",
    "    'max_depth': [9],\n",
    "    'max_features': [4],\n",
    "    'n_estimators': [180],\n",
    "    'random_state': [2022]\n",
    "}\n",
    "\n",
    "rf = RandomForestRegressor()\n",
    "\n",
    "grid = HalvingGridSearchCV(rf, param_grid, cv = 3, n_jobs = -1, factor = 2, refit = True, verbose = 0)\n",
    "\n",
    "grid.fit(x_train, y_train)\n",
    "\n",
    "print(grid.best_params_)\n",
    "print(grid.best_estimator_)\n",
    "\n",
    "\n",
    "predictions = grid.predict(x_test)\n",
    "\n",
    "print(\"%f mae\" %(mean_absolute_error(y_test, predictions)))"
   ]
  },
  {
   "cell_type": "markdown",
   "metadata": {},
   "source": [
    "### **Previsão do índice da qualidade do ar**"
   ]
  },
  {
   "cell_type": "code",
   "execution_count": 140,
   "metadata": {},
   "outputs": [],
   "source": [
    "y = dataset['aqi']\n",
    "x = dataset.drop(['aqi', 'lat', 'lon'], axis = 1)\n",
    "\n",
    "x_train, x_test, y_train, y_test = train_test_split(x, y, test_size = 0.2, random_state = 2021)"
   ]
  },
  {
   "cell_type": "code",
   "execution_count": 141,
   "metadata": {},
   "outputs": [
    {
     "name": "stdout",
     "output_type": "stream",
     "text": [
      "{'bootstrap': True, 'max_depth': 9, 'max_features': 4, 'n_estimators': 130, 'random_state': 2022}\n",
      "RandomForestRegressor(max_depth=9, max_features=4, n_estimators=130,\n",
      "                      random_state=2022)\n",
      "0.049999 mae\n"
     ]
    },
    {
     "name": "stderr",
     "output_type": "stream",
     "text": [
      "C:\\Users\\ASUS\\anaconda3\\envs\\aula1\\lib\\site-packages\\sklearn\\utils\\validation.py:63: FutureWarning: Arrays of bytes/strings is being converted to decimal numbers if dtype='numeric'. This behavior is deprecated in 0.24 and will be removed in 1.1 (renaming of 0.26). Please convert your data to numeric values explicitly instead.\n",
      "  return f(*args, **kwargs)\n"
     ]
    }
   ],
   "source": [
    "param_grid = {\n",
    "    'bootstrap': [True],\n",
    "    'max_depth': [9],\n",
    "    'max_features': [4],\n",
    "    'n_estimators': [130],\n",
    "    'random_state': [2022]\n",
    "}\n",
    "\n",
    "rf = RandomForestRegressor()\n",
    "\n",
    "grid = HalvingGridSearchCV(rf, param_grid, cv = 3, n_jobs = -1, factor = 2, refit = True, verbose = 0)\n",
    "\n",
    "grid.fit(x_train, y_train)\n",
    "\n",
    "print(grid.best_params_)\n",
    "print(grid.best_estimator_)\n",
    "\n",
    "\n",
    "predictions = grid.predict(x_test)\n",
    "\n",
    "print(\"%f mae\" %(mean_absolute_error(y_test, predictions)))"
   ]
  }
 ],
 "metadata": {
  "interpreter": {
   "hash": "5b5ead25a3487b00f35aa0d66be74b1cff9f20559eec8469d86f1716ab4f83b2"
  },
  "kernelspec": {
   "display_name": "Python 3.8.12 ('env1')",
   "language": "python",
   "name": "python3"
  },
  "language_info": {
   "codemirror_mode": {
    "name": "ipython",
    "version": 3
   },
   "file_extension": ".py",
   "mimetype": "text/x-python",
   "name": "python",
   "nbconvert_exporter": "python",
   "pygments_lexer": "ipython3",
   "version": "3.7.11"
  },
  "orig_nbformat": 4
 },
 "nbformat": 4,
 "nbformat_minor": 2
}
